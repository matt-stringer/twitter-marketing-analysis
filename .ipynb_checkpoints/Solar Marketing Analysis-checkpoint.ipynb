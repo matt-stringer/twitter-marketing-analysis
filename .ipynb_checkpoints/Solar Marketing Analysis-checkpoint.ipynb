{
 "cells": [
  {
   "cell_type": "markdown",
   "metadata": {
    "collapsed": false
   },
   "source": [
    "\n",
    "Investigating solar installer marketing strategies using natural language processing\n",
    "=============\n",
    "\n",
    "\n",
    "This analysis classifies solar installer tweets to better understand their marketing strategies and how they communicate with potential solar adopters. For instance do solar installers conduct more inbound or outbound marketing. And within each type of marketing, which topics are reference d more often. As tweets have a timestamp, analysis also derives trends in solar marketing.  \n",
    "\n",
    "The project includes use the following natural language processing techniques to classify solar installers tweets into particular topics: LDA (Latent Dirichlet allocation), K-MEANS, and \n",
    "\n",
    "\n",
    "\n",
    "\n",
    "\n",
    "\n",
    "Useful documents \n",
    "- http://miriamposner.com/blog/very-basic-strategies-for-interpreting-results-from-the-topic-modeling-tool/\n",
    "- https://www.dataquest.io/blog/matplotlib-tutorial/\n",
    "- http://ieeexplore.ieee.org/xpl/login.jsp?tp=&arnumber=7023421&url=http%3A%2F%2Fieeexplore.ieee.org%2Fxpls%2Fabs_all.jsp%3Farnumber%3D7023421\n",
    "- http://journals.ama.org/doi/abs/10.1509/jmr.12.0106\n",
    "- http://brandonrose.org/clustering"
   ]
  },
  {
   "cell_type": "markdown",
   "metadata": {
    "toc": "true"
   },
   "source": [
    "# Table of Contents\n",
    " <p><div class=\"lev1\"><a href=\"#Investigating-solar-installer-marketing-strategies-using-natural-language-processing\"><span class=\"toc-item-num\">1&nbsp;&nbsp;</span>Investigating solar installer marketing strategies using natural language processing</a></div><div class=\"lev1\"><a href=\"#Inbound-and-outbound-marketing\"><span class=\"toc-item-num\">2&nbsp;&nbsp;</span>Inbound and outbound marketing</a></div><div class=\"lev1\"><a href=\"#What-is-the-aggregate-breakdown-for-solar-installer-marketing?\"><span class=\"toc-item-num\">3&nbsp;&nbsp;</span>What is the aggregate breakdown for solar installer marketing?</a></div><div class=\"lev1\"><a href=\"#Preprocessing-features-for-NLP-analysis\"><span class=\"toc-item-num\">4&nbsp;&nbsp;</span>Preprocessing features for NLP analysis</a></div><div class=\"lev2\"><a href=\"#Controlling-for-customer-service-communication-in-Tweets.\"><span class=\"toc-item-num\">4.1&nbsp;&nbsp;</span>Controlling for customer service communication in Tweets.</a></div><div class=\"lev2\"><a href=\"#Controlling-for-dates-and-times\"><span class=\"toc-item-num\">4.2&nbsp;&nbsp;</span>Controlling for dates and times</a></div><div class=\"lev2\"><a href=\"#Replacing-company-name-or-twitter-hashtag-with-a-generic-text\"><span class=\"toc-item-num\">4.3&nbsp;&nbsp;</span>Replacing company name or twitter hashtag with a generic text</a></div><div class=\"lev2\"><a href=\"#Replacing-person-name-with-generic-text\"><span class=\"toc-item-num\">4.4&nbsp;&nbsp;</span>Replacing person name with generic text</a></div><div class=\"lev2\"><a href=\"#Replace-emails-with-standardized-text\"><span class=\"toc-item-num\">4.5&nbsp;&nbsp;</span>Replace emails with standardized text</a></div><div class=\"lev2\"><a href=\"#Remove-consecutive-words\"><span class=\"toc-item-num\">4.6&nbsp;&nbsp;</span>Remove consecutive words</a></div><div class=\"lev2\"><a href=\"#Replacing-geographic-region-with-a-text\"><span class=\"toc-item-num\">4.7&nbsp;&nbsp;</span>Replacing geographic region with a text</a></div><div class=\"lev1\"><a href=\"#Prepare-tf-idf-and-count-vectorizers;-investigate-terms-by-count\"><span class=\"toc-item-num\">5&nbsp;&nbsp;</span>Prepare tf-idf and count vectorizers; investigate terms by count</a></div><div class=\"lev2\"><a href=\"#Count-Vecterizor\"><span class=\"toc-item-num\">5.1&nbsp;&nbsp;</span>Count-Vecterizor</a></div><div class=\"lev2\"><a href=\"#TDIDF\"><span class=\"toc-item-num\">5.2&nbsp;&nbsp;</span>TDIDF</a></div><div class=\"lev1\"><a href=\"#Apply-k-means-clustering-to-determine-topics\"><span class=\"toc-item-num\">6&nbsp;&nbsp;</span>Apply k-means clustering to determine topics</a></div><div class=\"lev1\"><a href=\"#Apply-topic-modeling-with-LDA-and-visualize-with-pyLDAvis-to-adjust-parameters\"><span class=\"toc-item-num\">7&nbsp;&nbsp;</span>Apply topic modeling with LDA and visualize with pyLDAvis to adjust parameters</a></div><div class=\"lev1\"><a href=\"#Investigate-tweet-composition-by-topic\"><span class=\"toc-item-num\">8&nbsp;&nbsp;</span>Investigate tweet composition by topic</a></div><div class=\"lev2\"><a href=\"#What-is-the-trend-in-solar-marketing-over-time?\"><span class=\"toc-item-num\">8.1&nbsp;&nbsp;</span>What is the trend in solar marketing over time?</a></div><div class=\"lev2\"><a href=\"#Visualizing-marketing-clusters\"><span class=\"toc-item-num\">8.2&nbsp;&nbsp;</span>Visualizing marketing clusters</a></div>"
   ]
  },
  {
   "cell_type": "markdown",
   "metadata": {},
   "source": [
    "But first, I import everything I am going to need up front"
   ]
  },
  {
   "cell_type": "code",
   "execution_count": 1,
   "metadata": {
    "collapsed": false
   },
   "outputs": [
    {
     "name": "stderr",
     "output_type": "stream",
     "text": [
      "/Library/Frameworks/Python.framework/Versions/3.5/lib/python3.5/site-packages/matplotlib/__init__.py:872: UserWarning: axes.color_cycle is deprecated and replaced with axes.prop_cycle; please use the latter.\n",
      "  warnings.warn(self.msg_depr % (key, alt_key))\n"
     ]
    }
   ],
   "source": [
    "%matplotlib inline\n",
    "import pickle\n",
    "import pandas as pd\n",
    "import numpy as np\n",
    "import seaborn as sns\n",
    "import matplotlib.pyplot as plt\n",
    "import re\n",
    "import string\n",
    "from textblob import TextBlob as blob\n",
    "from scipy import stats\n",
    "import pymysql.cursors\n",
    "from datetime import datetime, timedelta\n",
    "import datefinder\n",
    "\n",
    "#from vaderSentiment.vaderSentiment import sentiment as vaderSentiment \n",
    "\n",
    "# sentiment analysis\n",
    "from textblob.sentiments import NaiveBayesAnalyzer\n",
    "#from pattern.en import sentiment, mood, modality, wordnet, ADJECTIVE\n",
    "\n",
    "# text parsing\n",
    "from nltk.corpus import stopwords\n",
    "from nltk.stem import WordNetLemmatizer\n",
    "from nltk.stem.porter import PorterStemmer\n",
    "from spacy.en import English, STOPWORDS\n",
    "from nltk.tokenize import sent_tokenize, word_tokenize\n",
    "from nltk.tag import pos_tag\n",
    "from collections import Counter\n",
    "\n",
    "# modeling\n",
    "from sklearn.feature_extraction.text import CountVectorizer, TfidfTransformer, TfidfVectorizer\n",
    "from sklearn.cluster import KMeans\n",
    "import lda\n",
    "from sklearn.decomposition import PCA, LatentDirichletAllocation\n",
    "\n",
    "# visualization\n",
    "import pyLDAvis\n",
    "\n",
    "\n",
    "import warnings\n",
    "warnings.filterwarnings(\"ignore\")\n",
    "\n",
    "\n"
   ]
  },
  {
   "cell_type": "code",
   "execution_count": 2,
   "metadata": {
    "collapsed": false
   },
   "outputs": [],
   "source": [
    "connection = pymysql.connect(host=\"localhost\", user=\"root\", db=\"twitterresearch\")\n",
    "\n",
    "def query_db(query):\n",
    "    with connection.cursor() as cursor:\n",
    "        cursor.execute(query)\n",
    "        return cursor.fetchall()\n",
    "# #         result = [item[0] for item in cursor.fetchall()]\n",
    "#         return result"
   ]
  },
  {
   "cell_type": "markdown",
   "metadata": {},
   "source": [
    "2. Exploratory Data Analysis\n",
    "\n",
    "Features investigated:\n",
    "- \n"
   ]
  },
  {
   "cell_type": "markdown",
   "metadata": {},
   "source": [
    "# Inbound and outbound marketing\n",
    "\n",
    "What is the industry standard for solar installers? How do they split their solar marketing over time?\n",
    "\n",
    "While this is good analysis, it does not necessarily reflect the importance of each. Releasing an outbound retweet of someone else tweet is not much effort. Whereas a tweet where the user gives more information about event they will host is fairly time consuming."
   ]
  },
  {
   "cell_type": "code",
   "execution_count": 3,
   "metadata": {
    "collapsed": false
   },
   "outputs": [
    {
     "data": {
      "image/png": "[encoded data removed]",
      "text/plain": [
       "<matplotlib.figure.Figure at 0x10e0fea58>"
      ]
     },
     "metadata": {},
     "output_type": "display_data"
    }
   ],
   "source": [
    "query = \"\"\"SELECT LEFT(marketing_type , 1), COUNT(*)\n",
    "            FROM tweets \n",
    "            WHERE marketing_type IS NOT NULL\n",
    "            AND marketing_type NOT IN ('3-a','4-a','5-a')\n",
    "            GROUP BY LEFT(marketing_type , 1);\"\"\"\n",
    "\n",
    "results = dict(query_db(query))\n",
    "\n",
    "plt.figure(figsize = (10, 6))\n",
    "#sns.barplot(results.keys(), 'favorite_count', data = results.values())\n",
    "\n",
    "\n",
    "\n",
    "plt.bar(results.keys(), results.values(), label='New Chart')\n",
    "plt.xlabel('Marketing Type')\n",
    "plt.ylabel('Count')\n",
    "plt.title(\"Inbound vs Outbound Marketing\");\n"
   ]
  },
  {
   "cell_type": "markdown",
   "metadata": {},
   "source": [
    "When did solar installers start using twitter? "
   ]
  },
  {
   "cell_type": "code",
   "execution_count": 4,
   "metadata": {
    "collapsed": false
   },
   "outputs": [
    {
     "data": {
      "image/png": "[encoded data removed]",
      "text/plain": [
       "<matplotlib.figure.Figure at 0x10e733240>"
      ]
     },
     "metadata": {},
     "output_type": "display_data"
    }
   ],
   "source": [
    "query = \"\"\"SELECT LEFT(marketing_type , 1), COUNT(*)\n",
    "            FROM tweets \n",
    "            WHERE marketing_type IS NOT NULL\n",
    "            AND marketing_type NOT IN ('3-a','4-a','5-a')\n",
    "            GROUP BY LEFT(marketing_type , 1);\"\"\"\n",
    "\n",
    "results = dict(query_db(query))\n",
    "\n",
    "plt.bar(list(results.keys()), list(results.values()), label='New Chart');\n"
   ]
  },
  {
   "cell_type": "markdown",
   "metadata": {},
   "source": [
    "Have solar installers changed over time?"
   ]
  },
  {
   "cell_type": "code",
   "execution_count": 5,
   "metadata": {
    "collapsed": false
   },
   "outputs": [
    {
     "data": {
      "image/png": "[encoded data removed]",
      "text/plain": [
       "<matplotlib.figure.Figure at 0x107f92320>"
      ]
     },
     "metadata": {},
     "output_type": "display_data"
    }
   ],
   "source": [
    "from collections import Counter\n",
    "\n",
    "query = \"\"\"SELECT twitter_id_fkey, YEAR(MIN(tweet_date)) FROM tweets\n",
    "            GROUP BY twitter_id_fkey;\"\"\"\n",
    "\n",
    "\n",
    "results = query_db(query)\n",
    "results = Counter(dict(sorted(results)).values())\n",
    "\n",
    "x = list(results.keys())\n",
    "y = results.values()\n",
    "width = 1/1.5\n",
    "plt.bar(x,y, align='center', color=\"blue\")\n",
    "\n",
    "# get the ticks right\n",
    "xx, locs = plt.xticks()\n",
    "ll = ['%.0f' % a for a in xx]\n",
    "plt.xticks(xx, ll)\n",
    "\n",
    "\n",
    "plt.savefig('results/twitter_adoption.png')"
   ]
  },
  {
   "cell_type": "markdown",
   "metadata": {},
   "source": [
    "Are solar installers using twitter more each year?"
   ]
  },
  {
   "cell_type": "code",
   "execution_count": 6,
   "metadata": {
    "collapsed": false
   },
   "outputs": [
    {
     "data": {
      "image/png": "[encoded data removed]",
      "text/plain": [
       "<matplotlib.figure.Figure at 0x10f14b710>"
      ]
     },
     "metadata": {},
     "output_type": "display_data"
    }
   ],
   "source": [
    "query = \"\"\"SELECT YEAR(tweet_date), COUNT(*) FROM tweets\n",
    "            GROUP BY YEAR(tweet_date)\n",
    "            ;\"\"\"\n",
    "\n",
    "results = dict(query_db(query))\n",
    "x = list(results.keys())\n",
    "y = results.values()\n",
    "width = 1/1.5\n",
    "plt.bar(x,y, align='center', color=\"blue\")\n",
    "\n",
    "# get the ticks right\n",
    "xx, locs = plt.xticks()\n",
    "ll = ['%.0f' % a for a in xx]\n",
    "plt.xticks(xx, ll)\n",
    "\n",
    "\n",
    "plt.savefig('results/number_tweets_by_year.png')"
   ]
  },
  {
   "cell_type": "code",
   "execution_count": 9,
   "metadata": {
    "collapsed": false
   },
   "outputs": [],
   "source": [
    "# put tweets into a dataframe\n",
    "query = \"\"\"SELECT tweets.tweet, tweets.tweet_date, tweets.retweeted, tweets.retweet_count, tweets.favorited, tweets.favorite_count, installers.installer_name, tweets.marketing_type \n",
    "            FROM tweets \n",
    "            LEFT JOIN installers \n",
    "            ON tweets.twitter_id_fkey = installers.twitter_id\"\"\"\n",
    "\n",
    "results = query_db(query)\n",
    "\n",
    "tweet, tweet_date, retweeted, retweet_count, favorited, favorite_count, installer_name, marketing_type  = zip(*results)\n",
    "\n",
    "data = [tweet, tweet_date, retweeted, retweet_count, favorited, favorite_count, installer_name, marketing_type ]\n",
    "\n",
    "df = pd.DataFrame(data)\n",
    "df = df.transpose()\n",
    "cols = ['text', 'tweet_date', 'retweeted', 'retweet_count', 'favorited', 'favorite_count', 'company', 'marketing_type']\n",
    "df.columns = cols\n",
    "\n"
   ]
  },
  {
   "cell_type": "code",
   "execution_count": 10,
   "metadata": {
    "collapsed": false
   },
   "outputs": [],
   "source": [
    "def add_metadata(df):\n",
    "    \"\"\"Add date, is retweet, month, and week features to df.\"\"\"\n",
    "    # add date as datetime object\n",
    "    df.loc[:, 'date'] = df.loc[:, 'tweet_date'].apply(lambda x: pd.to_datetime(x).date())\n",
    "    \n",
    "    # add month\n",
    "    df.loc[:, 'month'] = df.loc[:, 'date'].apply(lambda x: x.replace(day = 1))"
   ]
  },
  {
   "cell_type": "code",
   "execution_count": 11,
   "metadata": {
    "collapsed": false
   },
   "outputs": [],
   "source": [
    "add_metadata(df)"
   ]
  },
  {
   "cell_type": "markdown",
   "metadata": {},
   "source": [
    "Who uses Twitter more?"
   ]
  },
  {
   "cell_type": "code",
   "execution_count": 12,
   "metadata": {
    "collapsed": true
   },
   "outputs": [],
   "source": [
    "def plot_time(counted):\n",
    "    \"\"\"Plot tweets over time.\"\"\"\n",
    "    cands = ['SolarCity']\n",
    "    plt.figure(figsize = (10, 6))\n",
    "    for cand in cands:\n",
    "        plt.plot(counted.loc[cand, 'text'], label = cand)\n",
    "    plt.legend(loc = 'best')\n",
    "    plt.show()"
   ]
  },
  {
   "cell_type": "markdown",
   "metadata": {},
   "source": [
    "Do particular solar installers get retweeted more?\n"
   ]
  },
  {
   "cell_type": "markdown",
   "metadata": {},
   "source": [
    "What is the history of their retweets over time?"
   ]
  },
  {
   "cell_type": "markdown",
   "metadata": {},
   "source": [
    "What are the most retweeted tweets? Is there a common thread? Are they from a particular company? Does that company have something special about them? "
   ]
  },
  {
   "cell_type": "code",
   "execution_count": 13,
   "metadata": {
    "collapsed": false
   },
   "outputs": [],
   "source": [
    "# show original tweets\n",
    "# df\n",
    "\n",
    "retweets = df[df['text'].str.contains('RT', na=False) == False]\n",
    "\n",
    "list_most_retweeted = retweets[['text', 'company', 'retweet_count']].sort_values(['retweet_count'], ascending=False)"
   ]
  },
  {
   "cell_type": "markdown",
   "metadata": {},
   "source": [
    "Relationship between tweets and revenue?"
   ]
  },
  {
   "cell_type": "markdown",
   "metadata": {},
   "source": [
    "# What is the aggregate breakdown for solar installer marketing?\n",
    "\n",
    "This section segments the analysis"
   ]
  },
  {
   "cell_type": "code",
   "execution_count": null,
   "metadata": {
    "collapsed": false
   },
   "outputs": [],
   "source": []
  },
  {
   "cell_type": "markdown",
   "metadata": {},
   "source": [
    "# Preprocessing features for NLP analysis\n",
    "\n",
    "Tweets have \n",
    "\n",
    "Define functions to tokenize and add sentiment, modality, and mood scores.\n",
    "\n",
    "TagLDA: Bringing document structure knowledge into topic models http://pages.cs.wisc.edu/~jerryzhu/pub/taglda.pdf\n",
    "Content Marketing LDA - https://www.seoreseller.com/blog/content-marketing-through-topic-modeling\n",
    "\n",
    "Reducing dimensionality\n",
    "http://fastml.com/dimensionality-reduction-for-sparse-binary-data/\n",
    "\n",
    "Bag of words implementation\n",
    "\n",
    "http://fastml.com/classifying-text-with-bag-of-words-a-tutorial/"
   ]
  },
  {
   "cell_type": "code",
   "execution_count": 14,
   "metadata": {
    "collapsed": true
   },
   "outputs": [],
   "source": [
    "# get only the top tweets for intial analysis\n",
    "# df = df.head(200)"
   ]
  },
  {
   "cell_type": "code",
   "execution_count": 15,
   "metadata": {
    "collapsed": true
   },
   "outputs": [],
   "source": [
    "def get_sentences(text):\n",
    "    \"\"\"Return list of sentences in tweet.\"\"\"\n",
    "    sents = sent_tokenize(text)\n",
    "    return [sent for sent in sents if re.search('[a-zA-Z]', sent) != None]"
   ]
  },
  {
   "cell_type": "markdown",
   "metadata": {},
   "source": [
    "## Controlling for customer service communication in Tweets.\n",
    "\n",
    "A considerable number of the tweets are user mentions -- Tweets where the user mentions a particular user. These tweets are most likely a customer service. To help better categorize these tweets. We will replace the twitter handle for the person that they are contacting with the text \"usermention\""
   ]
  },
  {
   "cell_type": "code",
   "execution_count": 16,
   "metadata": {
    "collapsed": false
   },
   "outputs": [],
   "source": [
    "def remove_user_mention(text):\n",
    "    \"\"\"\n",
    "    Add annotation and remove the username to tweets \n",
    "    that are user mention. \n",
    "    \"\"\"    \n",
    "    try: \n",
    "        if text[0] == '@' and len(text) > 0:\n",
    "            try:\n",
    "                split_tweet = text.split(\" \")\n",
    "                twitter_handle = split_tweet[0]\n",
    "                text = ' '.join(['usermention' if word==twitter_handle else word for word in split_tweet])\n",
    "            except Exception as e:\n",
    "                print(text)\n",
    "    \n",
    "    except Exception as e:\n",
    "        print(text)\n",
    "    \n",
    "    return text\n",
    "     "
   ]
  },
  {
   "cell_type": "markdown",
   "metadata": {},
   "source": [
    "## Controlling for dates and times\n",
    "\n",
    "a lot of the tweets reference a particular time or date. This is because they are typically referencing a date or time that an event will be held. These tweets should be grouped together as the date or the time that event occurred is not that important. It is more important to know that there was a particular event held on a date.\n",
    "\n",
    "- date reference vs time reference 'May 23rd at 8:00am'\n",
    "\n",
    "TODO:\n",
    "- what is the difference between personal message (pm) and pm time\n",
    "- What to do with the th\n"
   ]
  },
  {
   "cell_type": "code",
   "execution_count": 17,
   "metadata": {
    "collapsed": false
   },
   "outputs": [
    {
     "data": {
      "text/plain": [
       "'datereference at timereference until &lt;br /&gt;fried, datereference 23 at timereference. Come... http://bit.ly/cqi6Lr'"
      ]
     },
     "execution_count": 17,
     "metadata": {},
     "output_type": "execute_result"
    }
   ],
   "source": [
    "def control_datetime(text):\n",
    "    \n",
    "    days = ['monday', 'mon', 'tuesday', 'tues', 'wednesday', 'wed', 'thursday', 'thurs', 'friday', 'fri', 'saturday', 'sunday', 'tomorrow', 'yesterday', 'weekend']\n",
    "    months = ['january', 'jan', 'february', 'feb', 'march', 'mar', 'april', 'apr', 'may', 'june', 'jun', 'july', 'jul', 'august', 'aug', 'september', 'sep', 'october', 'oct', 'november', 'nov', 'december', 'dec']\n",
    "#     time = ['pm', 'am', 'noon', 'morning', 'afternoon', 'evening', 'night', 'today']\n",
    "\n",
    "    for date in (days + months):\n",
    "        date = r'(?<![a-z])' + date + '(?![a-z])'\n",
    "        text = re.sub(date, 'datereference', text, flags=re.IGNORECASE)\n",
    "        \n",
    "    time = r'\\d{1,2}(?:(?:am|pm)|(?::\\d{1,2})(?: am| pm)?|(?::\\d{1,2})(?:am|pm)?)'\n",
    "    text = re.sub(time, 'timereference', text, flags=re.IGNORECASE)\n",
    "    \n",
    "    return text\n",
    "    \n",
    "text = \"Tomorrow at 9:00 am until &lt;br /&gt;fried, May 23 at 5:00 pm. Come... http://bit.ly/cqi6Lr\"\n",
    "control_datetime(text)\n",
    "    "
   ]
  },
  {
   "cell_type": "markdown",
   "metadata": {},
   "source": [
    "## Replacing company name or twitter hashtag with a generic text\n",
    "a lot of tweets reference particular places\n"
   ]
  },
  {
   "cell_type": "code",
   "execution_count": 18,
   "metadata": {
    "collapsed": false
   },
   "outputs": [
    {
     "data": {
      "text/plain": [
       "'join companyreference today at our event'"
      ]
     },
     "execution_count": 18,
     "metadata": {},
     "output_type": "execute_result"
    }
   ],
   "source": [
    "# list of companies\n",
    "\n",
    "def create_company_list():\n",
    "    companies = set(df.company.drop_duplicates())\n",
    "    for c in companies:\n",
    "        words = u' '.join(c.lower().split(\" \"))\n",
    "        words_no_space =  u''.join(words.replace(\".\",\"\").split(\" \"))\n",
    "        companies = companies.union({words, words_no_space})\n",
    "\n",
    "    companies = companies.union({u'ameco', u'sierra pacific', u'herca',u'hemetsolar', u'solstice', u'vivint solar', u'vivintsolar', u'vivint', u'sunline',  u'trinitysolar', u'trinity', u'rgsenergy', u'rg', u'sullivansolar', u'solare', u'solarenergy',u'recsolar', u'rec', u'sullivan', u'joule', u'thesolarco', u'solaruniverse', u'gci', u'green convergence', u'pacificsolar', u'ross', u'ross group', u'namaste', 'asi hastings', u'asi', u'verengosolar', u'gosolaire', u'solaire', u'sunationsolarchoice', u'sunationsolar', u'acroenergy', u'sunation', u'namast',  u'luminalt',  u'solar alliance', u'solar alliance of america', u'quality home improvement', u'solstice story'})\n",
    "    return companies\n",
    "\n",
    "companies = create_company_list()\n",
    "\n",
    "def replace_company_name(text):\n",
    "    \"\"\"\n",
    "    Apply regex to each company name.\n",
    "    \"\"\"\n",
    "    for company in (companies):\n",
    "\n",
    "        company = r'(?<![a-z])' + company + '(?![a-z])'\n",
    "        text = re.sub(company, 'companyreference', text, flags=re.IGNORECASE)\n",
    "    \n",
    "    return text\n",
    "    \n",
    "text = 'join vivintsolar today at our event'    \n",
    "replace_company_name(text)"
   ]
  },
  {
   "cell_type": "markdown",
   "metadata": {},
   "source": [
    "## Replacing person name with generic text\n",
    "\n",
    "\n",
    "http://www.matthewjockers.net/2013/04/12/secret-recipe-for-topic-modeling-themes/"
   ]
  },
  {
   "cell_type": "code",
   "execution_count": 19,
   "metadata": {
    "collapsed": false
   },
   "outputs": [],
   "source": [
    "# names = ({u'lynn', u'lynn jurich', u'jurich', u'lyndon rive', u'lyndon', u'rive', u'ceo', u'founder', u'ceo lyndon', u'ceo lyndon rive', u\"danny kennedy\", u\"danny\", u\"kennedy\", u\"dannyksfun\", u'rainarusso', u'carlsiegrist'})\n",
    "# add_names = set(open('data/additional_stop_word.txt','r').read().split(\", \"))\n",
    "# names_longer_3 = set([name for name in add_names if len(name) >= 4])\n",
    "\n",
    "# names = names.union(names_longer_3)\n",
    "\n",
    "\n",
    "# def replace_company_name(text):\n",
    "#     for name in names:\n",
    "\n",
    "#         name = r'(?<![a-z])' + name + '(?![a-z])'\n",
    "#         text = re.sub(name, 'namereference', text, flags=re.IGNORECASE)\n",
    "    \n",
    "#     return text\n",
    "\n",
    "\n",
    "# text = 'jeff jingleheimer smith'\n",
    "# replace_company_name(text)"
   ]
  },
  {
   "cell_type": "markdown",
   "metadata": {},
   "source": [
    "## Replace emails with standardized text"
   ]
  },
  {
   "cell_type": "code",
   "execution_count": 20,
   "metadata": {
    "collapsed": false,
    "scrolled": true
   },
   "outputs": [
    {
     "data": {
      "text/plain": [
       "'this is an emails useremailaddress'"
      ]
     },
     "execution_count": 20,
     "metadata": {},
     "output_type": "execute_result"
    }
   ],
   "source": [
    "email_pattern = re.compile('([\\w\\-\\.]+@(\\w[\\w\\-]+\\.)+[\\w\\-]+)')\n",
    "\n",
    "def get_emails(text):\n",
    "    \"\"\"Returns an iterator of matched emails found in string s.\"\"\"\n",
    "    for match in email_pattern.findall(text):\n",
    "        \n",
    "        text = text.replace(match[0], 'useremailaddress')\n",
    "    \n",
    "    return text\n",
    "\n",
    "text = 'this is an emails matt.a.stringer@gmail.com'\n",
    "get_emails(text)"
   ]
  },
  {
   "cell_type": "markdown",
   "metadata": {},
   "source": [
    "## Remove consecutive words\n",
    "\n",
    "Some words are together in a group, for instance 'datereference datereference'. This is either due to the bag of word processing or mistype"
   ]
  },
  {
   "cell_type": "code",
   "execution_count": 21,
   "metadata": {
    "collapsed": false
   },
   "outputs": [
    {
     "data": {
      "text/plain": [
       "'come to solar open house in honolulu near kamiloiki park datereference datereference from timereference to timereference check out hyperlink'"
      ]
     },
     "execution_count": 21,
     "metadata": {},
     "output_type": "execute_result"
    }
   ],
   "source": [
    "def remove_duplicate(text):\n",
    "    text_list = text.split(\" \")\n",
    "    new_text_list = text_list\n",
    "    for num, t in enumerate(text_list):\n",
    "        if num < len(text_list)-1:\n",
    "            if text_list[num+1] == t:\n",
    "                text_list.remove(t)\n",
    "\n",
    "    return ' '.join(text_list)     \n",
    "\n",
    "text = 'come to solar open house in honolulu near kamiloiki park datereference datereference datereference from timereference to timereference check out hyperlink'\n",
    "# text = 'datereference at timereference until &lt;br /&gt;datereference datereference 23 at timereference. Come... http://bit.ly/cqi6Lr'\n",
    "remove_duplicate(text)"
   ]
  },
  {
   "cell_type": "markdown",
   "metadata": {},
   "source": [
    "## Replacing geographic region with a text\n",
    "\n",
    "\n",
    "This looks like a good example. https://pypi.python.org/pypi/geograpy/0.3.7\n",
    "Package not currently not yet ready for Python3\n",
    "\n",
    "Current implemtation is only implementing a list of text\n"
   ]
  },
  {
   "cell_type": "code",
   "execution_count": 22,
   "metadata": {
    "collapsed": false
   },
   "outputs": [],
   "source": [
    "states = set(['Alabama', 'AL', 'Alaska', 'AK','Arizona', 'AZ', 'Arkansas', 'AR', 'California', 'CA', 'Colorado', 'CO', 'Connecticut','Delaware', 'DE', 'Florida','FL','Georgia', 'GA', 'Hawaii', \"Hawai'i\", 'HI', 'Idaho', 'ID', 'Illinois', 'IL', 'Indiana', 'ID', 'Iowa', 'IA', 'Kansas', 'KA', 'Kentucky', 'KY', 'Louisiana', 'LA', 'Maine', 'ME', 'Maryland', 'MD', 'Massachusetts', 'MA', 'Michigan', 'MI', 'Minnesota', 'MN', 'Mississippi', 'MS', 'Missouri', 'MS', 'Montana', 'MT', 'Nebraska','NE', 'Nevada', 'NV', 'New Hampshire', 'NH', 'New Jersey', 'NJ', 'New Mexico', 'NM', 'New York', 'NY', 'North Carolina', 'NC', 'North Dakota', 'ND', 'Ohio','OH',  'Oklahoma','OK','Oregon', 'OR','Pennsylvania','PA', 'Rhode Island','RI', 'South Carolina', 'SC', 'South Dakota','SD', 'Tennessee', 'TN', 'Texas','TX', 'Utah','UT', 'Vermont','VT', 'Virginia','VA', 'Washington','WA', 'West Virginia','WV', 'Wisconsin','WI', 'Wyoming', 'WY' ])\n",
    "states = states.union({''.join(state.split(\" \")) for state in states})\n",
    "\n",
    "cities = set([ u'athens',u'new orleans', u'san diego', u'san francisco', u'grass valley', u'ventura county',  u'santa clarita',u'santa barbara', u'san diego', u'nyc', u'la', u'oakland', u'san jose',  u'bay area', u'los angeles', u'sacramento', u'fresno', u'long island', u'phoenix', u'ca', u'sf', u'marin', u'palm springs', u'sonoma', u'boulder', u'spec city', u'camarillo', u'li', u'seattle', u'austin', u'orange county', 'denver'])\n",
    "cities = cities.union({''.join(city.split(\" \")) for city in cities})\n",
    "\n",
    "def replace_geography(text):\n",
    "    text = replace_states(text)\n",
    "    text = replace_cities(text)\n",
    "    return text\n",
    "    \n",
    "def replace_states(text):    \n",
    "    for state in states:\n",
    "        state = r'(?<![a-z])' + state + '(?![a-z])'\n",
    "        text = re.sub(state, 'statename', text, flags=re.IGNORECASE)   \n",
    "    return text\n",
    "\n",
    "def replace_cities(text):\n",
    "\n",
    "    for city in cities:\n",
    "        city = r'(?<![a-z])' + city + '(?![a-z])'\n",
    "        text = re.sub(city, 'cityname', text, flags=re.IGNORECASE)\n",
    "    return text\n",
    "        \n",
    "\n",
    "text = 'Calcuated 10 $10.8B invested in cleantech in San Francisco, CA and athens, GA in 2008 with 20% increase by matt.a.stringer@gmail.com'\n",
    "text = replace_geography(text)\n",
    "\n"
   ]
  },
  {
   "cell_type": "code",
   "execution_count": 2,
   "metadata": {
    "collapsed": false
   },
   "outputs": [],
   "source": [
    "nlp = English()\n",
    "stop = STOPWORDS\n",
    "punct = {p for p in string.punctuation if p != '@' and p != '#'}"
   ]
  },
  {
   "cell_type": "code",
   "execution_count": 24,
   "metadata": {
    "collapsed": true
   },
   "outputs": [],
   "source": [
    "def get_tokens(text):  \n",
    "    \"\"\"\n",
    "    Return lemmatized tokens for each review.\n",
    "    \"\"\"\n",
    "    text = ' '.join(text.lower().split()) # make text lower case\n",
    "    \n",
    "    text = get_emails(text) # replace email address\n",
    "    text = replace_geography(text)\n",
    "    text = replace_company_name(text)\n",
    "    \n",
    "    text = control_datetime(text) # replace dates with str datetimes\n",
    "    text = remove_user_mention(text) # place replace replies with the names usermentions\n",
    "    \n",
    "#     text = re.sub(r'\\w+:\\/{2}[\\d\\w-]+(\\.[\\d\\w-]+)*(?:(?:\\/[^\\s/]*))*', 'hyperlink', text)# replace urls with str hyperlink\n",
    "    \n",
    "    # need to figure out what to do with stuff that points back to their blog or company website\n",
    "    text = re.sub(r\"http\\S+\", 'hyperlink', text)# replace urls with str hyperlink\n",
    "    text = re.sub(r\"https\\S+\", 'hyperlink', text)# replace urls with str hyperlink\n",
    "    text = re.sub(r\"www\\S+\", 'hyperlink', text)# replace urls with str hyperlink \n",
    "\n",
    "    words = re.sub(\"[^a-zA-Z@$%']\", \" \", text) # remove everything except letters, hashtags, @ and $\n",
    "\n",
    "    try:\n",
    "        tokens = [token.lemma_ for token in nlp(words)] # get lemmas\n",
    "    except:\n",
    "        tokens = [token.lemma_ for token in nlp(words.decode('utf8'))] # get lemmas\n",
    "\n",
    "    filtered = [t for t in tokens if t != '' and t != ' ' and t != '\\n' and t != '\\n\\n'] # remove any remaining spaces\n",
    "    filtered = [t.strip() for t in filtered] # remove phone numbers from analysis   ?\n",
    "    filtered = [x for x in filtered if x]\n",
    "    \n",
    "\n",
    "# filtered = [t for t in filtered if any(letter.isalpha() for letter in t)] # remove numbers without any letters attached\n",
    "    filtered_text = ' '.join(filtered)\n",
    "    filtered_text = remove_duplicate(filtered_text) # remove duplicate text\n",
    "    return filtered_text\n",
    "\n",
    "\n",
    "\n",
    "def remove_proper_nouns(text):\n",
    "    tagged_sent = pos_tag(text.split())\n",
    "    # [('Michael', 'NNP'), ('Jackson', 'NNP'), ('likes', 'VBZ'), ('to', 'TO'), ('eat', 'VB'), ('at', 'IN'), ('McDonalds', 'NNP')]\n",
    "    nopropernouns = [word for word,pos in tagged_sent if pos != 'NNP']\n",
    "    return ' '.join(nopropernouns)\n"
   ]
  },
  {
   "cell_type": "code",
   "execution_count": 25,
   "metadata": {
    "collapsed": false
   },
   "outputs": [
    {
     "data": {
      "text/plain": [
       "'datereference newman amp paul dickson hyperlink companyreference leadership cityname'"
      ]
     },
     "execution_count": 25,
     "metadata": {},
     "output_type": "execute_result"
    }
   ],
   "source": [
    "\n",
    "text = \"$4.8B wasn't invested in cleantech in San Francisco, california  and Hawai'i 2008 with Sammy's 20% increase by matt.a.stringer@gmail.com http://t.co/asdfasd\"\n",
    "text2 = \"RT @AltEnergyWebPar: Residential-solar: Hillary Clinton, Julia Gillard Sign $50 Million Solar Power Pact http://bit.ly/arIegw Full http: ...\"\n",
    "text3 = \"RT @BloombergNEF: Excited for today's roundtable w/ @CohnReznickRE in NY to discuss financial innovation in the US renewable industry! http\"\n",
    "text4 = \"Hey @greggrunberg check out www.Sungevity.com we're a leading California solar provider and offer free solar quotes via the web in 24 hrs\"\n",
    "text5 = \"Tomorrow at 10:00 am until &lt;br /&gt;Sunday, May 23 at 5:00 pm. Come... http://bit.ly/cqi6Lr\"\n",
    "text6 = \"Solar open house in Kaimuki this weekend Sunday, June 5, 12pm-4pm.  3824 Pahoa Ave Honolulu, HI.\"\n",
    "text7 = 'Jan Newman &amp; Paul Dickson http://t.co/tvAGyZ1QpL #VivintSolar #leadership venturacounty'\n",
    "get_tokens(text7)\n"
   ]
  },
  {
   "cell_type": "code",
   "execution_count": 26,
   "metadata": {
    "collapsed": false
   },
   "outputs": [],
   "source": [
    "def get_features(df):\n",
    "    \n",
    "    # remove proper nouns from analysis\n",
    "#     %time df.loc[:, 'text_no_proper_nouns'] = df.loc[:, 'text'].apply(remove_proper_nouns)\n",
    "    \n",
    "    \n",
    "    # add sentences\n",
    "    %time df.loc[:, 'sentences'] = df.loc[:, 'text'].apply(get_sentences)\n",
    "    \n",
    "    # add tokens\n",
    "    %time df.loc[:, 'tokens'] = df.loc[:, 'text'].apply(get_tokens)\n",
    "    \n",
    "\n",
    "    \n",
    "    # add sentiment, subjectivity, modality, and mood scores by sentence\n",
    "    #%time df.loc[:, 'sentiment'] = df.loc[:, 'sentences'].apply(get_polarity)\n",
    "    \n",
    "    # count number of characters\n",
    "    %time df.loc[:, 'num_chars'] = df.loc[:, 'tokens'].apply(lambda x: pd.to_numeric(len(x), errors='coerce'))\n",
    "    \n",
    "    # count number of tokens\n",
    "    %time df.loc[:, 'num_tokens'] = df.loc[:, 'tokens'].apply(lambda x: pd.to_numeric(len(x.split()), errors='coerce'))\n",
    "    \n",
    "    # count number of hyperlinks\n",
    "    %time df.loc[:, 'num_hyperlinks'] = df.loc[:, 'tokens'].apply(lambda x: x.split().count('hyperlink'))"
   ]
  },
  {
   "cell_type": "code",
   "execution_count": 27,
   "metadata": {
    "collapsed": false,
    "scrolled": true
   },
   "outputs": [
    {
     "name": "stdout",
     "output_type": "stream",
     "text": [
      "CPU times: user 7.48 s, sys: 68.8 ms, total: 7.55 s\n",
      "Wall time: 7.6 s\n",
      "CPU times: user 4min 54s, sys: 1.84 s, total: 4min 56s\n",
      "Wall time: 4min 57s\n",
      "CPU times: user 836 ms, sys: 14.9 ms, total: 851 ms\n",
      "Wall time: 856 ms\n",
      "CPU times: user 929 ms, sys: 6.88 ms, total: 936 ms\n",
      "Wall time: 938 ms\n",
      "CPU times: user 190 ms, sys: 2.62 ms, total: 193 ms\n",
      "Wall time: 193 ms\n"
     ]
    }
   ],
   "source": [
    "get_features(df)"
   ]
  },
  {
   "cell_type": "code",
   "execution_count": 6,
   "metadata": {
    "collapsed": false
   },
   "outputs": [
    {
     "ename": "NameError",
     "evalue": "name 'df' is not defined",
     "output_type": "error",
     "traceback": [
      "\u001b[0;31m---------------------------------------------------------------------------\u001b[0m",
      "\u001b[0;31mNameError\u001b[0m                                 Traceback (most recent call last)",
      "\u001b[0;32m<ipython-input-6-0a193baecde9>\u001b[0m in \u001b[0;36m<module>\u001b[0;34m()\u001b[0m\n\u001b[1;32m      1\u001b[0m \u001b[0;31m# confirm that we have all the companies on the list\u001b[0m\u001b[0;34m\u001b[0m\u001b[0;34m\u001b[0m\u001b[0m\n\u001b[0;32m----> 2\u001b[0;31m \u001b[0mcompanies\u001b[0m \u001b[0;34m=\u001b[0m \u001b[0mdf\u001b[0m\u001b[0;34m.\u001b[0m\u001b[0mcompany\u001b[0m\u001b[0;34m.\u001b[0m\u001b[0mdrop_duplicates\u001b[0m\u001b[0;34m(\u001b[0m\u001b[0;34m)\u001b[0m\u001b[0;34m\u001b[0m\u001b[0m\n\u001b[0m\u001b[1;32m      3\u001b[0m \u001b[0;31m# companies.tolist()\u001b[0m\u001b[0;34m\u001b[0m\u001b[0;34m\u001b[0m\u001b[0m\n",
      "\u001b[0;31mNameError\u001b[0m: name 'df' is not defined"
     ]
    }
   ],
   "source": [
    "# confirm that we have all the companies on the list\n",
    "companies = df.company.drop_duplicates()\n",
    "# companies.tolist()"
   ]
  },
  {
   "cell_type": "code",
   "execution_count": 7,
   "metadata": {
    "collapsed": false
   },
   "outputs": [
    {
     "ename": "NameError",
     "evalue": "name 'df' is not defined",
     "output_type": "error",
     "traceback": [
      "\u001b[0;31m---------------------------------------------------------------------------\u001b[0m",
      "\u001b[0;31mNameError\u001b[0m                                 Traceback (most recent call last)",
      "\u001b[0;32m<ipython-input-7-2a0b62a22c5e>\u001b[0m in \u001b[0;36m<module>\u001b[0;34m()\u001b[0m\n\u001b[1;32m      1\u001b[0m \u001b[0;31m# only analyze tweets with more than 75 characters\u001b[0m\u001b[0;34m\u001b[0m\u001b[0;34m\u001b[0m\u001b[0m\n\u001b[0;32m----> 2\u001b[0;31m \u001b[0mprint\u001b[0m\u001b[0;34m(\u001b[0m\u001b[0mlen\u001b[0m\u001b[0;34m(\u001b[0m\u001b[0mdf\u001b[0m\u001b[0;34m)\u001b[0m\u001b[0;34m)\u001b[0m\u001b[0;34m\u001b[0m\u001b[0m\n\u001b[0m\u001b[1;32m      3\u001b[0m \u001b[0mlong_tweets\u001b[0m \u001b[0;34m=\u001b[0m \u001b[0mdf\u001b[0m\u001b[0;34m[\u001b[0m\u001b[0mdf\u001b[0m\u001b[0;34m[\u001b[0m\u001b[0;34m'num_chars'\u001b[0m\u001b[0;34m]\u001b[0m \u001b[0;34m>\u001b[0m \u001b[0;36m75.0\u001b[0m\u001b[0;34m]\u001b[0m\u001b[0;34m\u001b[0m\u001b[0m\n\u001b[1;32m      4\u001b[0m \u001b[0;34m\u001b[0m\u001b[0m\n\u001b[1;32m      5\u001b[0m \u001b[0;31m# companies_to_analyze =['Sungevity', 'SolarCity', 'Vivint Solar ', 'SunRun', 'Trinity Solar ', 'Solar Universe Inc.', 'Real Goods Solar ', 'Solar Universe Inc.', 'Alternate Energy Inc']\u001b[0m\u001b[0;34m\u001b[0m\u001b[0;34m\u001b[0m\u001b[0m\n",
      "\u001b[0;31mNameError\u001b[0m: name 'df' is not defined"
     ]
    }
   ],
   "source": [
    "# only analyze tweets with more than 75 characters\n",
    "print(len(df))\n",
    "long_tweets = df[df['num_chars'] > 75.0]\n",
    "\n",
    "# companies_to_analyze =['Sungevity', 'SolarCity', 'Vivint Solar ', 'SunRun', 'Trinity Solar ', 'Solar Universe Inc.', 'Real Goods Solar ', 'Solar Universe Inc.', 'Alternate Energy Inc']\n",
    "# long_tweets = long_tweets[long_tweets.company.isin(companies_to_analyze)]\n",
    "long_tweets = long_tweets[~long_tweets.company.isin(['Quality First Home Improvement Inc.', 'GRID Alternatives', 'Solar Alliance of America'])]\n",
    "print(len(long_tweets))"
   ]
  },
  {
   "cell_type": "code",
   "execution_count": 8,
   "metadata": {
    "collapsed": false
   },
   "outputs": [
    {
     "ename": "NameError",
     "evalue": "name 'long_tweets' is not defined",
     "output_type": "error",
     "traceback": [
      "\u001b[0;31m---------------------------------------------------------------------------\u001b[0m",
      "\u001b[0;31mNameError\u001b[0m                                 Traceback (most recent call last)",
      "\u001b[0;32m<ipython-input-8-795e4f870dd2>\u001b[0m in \u001b[0;36m<module>\u001b[0;34m()\u001b[0m\n\u001b[0;32m----> 1\u001b[0;31m \u001b[0mt\u001b[0m \u001b[0;34m=\u001b[0m \u001b[0mlong_tweets\u001b[0m\u001b[0;34m[\u001b[0m\u001b[0mlong_tweets\u001b[0m\u001b[0;34m[\u001b[0m\u001b[0;34m'tokens'\u001b[0m\u001b[0;34m]\u001b[0m\u001b[0;34m.\u001b[0m\u001b[0mstr\u001b[0m\u001b[0;34m.\u001b[0m\u001b[0mcontains\u001b[0m\u001b[0;34m(\u001b[0m\u001b[0;34m'vivintsolar'\u001b[0m\u001b[0;34m,\u001b[0m \u001b[0mna\u001b[0m\u001b[0;34m=\u001b[0m\u001b[0;32mFalse\u001b[0m\u001b[0;34m)\u001b[0m \u001b[0;34m==\u001b[0m \u001b[0;32mTrue\u001b[0m\u001b[0;34m]\u001b[0m\u001b[0;34m\u001b[0m\u001b[0m\n\u001b[0m\u001b[1;32m      2\u001b[0m \u001b[0mt\u001b[0m\u001b[0;34m[\u001b[0m\u001b[0;34m[\u001b[0m\u001b[0;34m'tokens'\u001b[0m\u001b[0;34m,\u001b[0m \u001b[0;34m'text'\u001b[0m\u001b[0;34m]\u001b[0m\u001b[0;34m]\u001b[0m\u001b[0;34m.\u001b[0m\u001b[0mto_csv\u001b[0m\u001b[0;34m(\u001b[0m\u001b[0;34m'out.csv'\u001b[0m\u001b[0;34m)\u001b[0m\u001b[0;34m\u001b[0m\u001b[0m\n",
      "\u001b[0;31mNameError\u001b[0m: name 'long_tweets' is not defined"
     ]
    }
   ],
   "source": [
    "t = long_tweets[long_tweets['tokens'].str.contains('vivintsolar', na=False) == True]\n",
    "t[['tokens', 'text']].to_csv('out.csv')\n"
   ]
  },
  {
   "cell_type": "code",
   "execution_count": 9,
   "metadata": {
    "collapsed": false
   },
   "outputs": [],
   "source": [
    "# # create list of companies that will be analyzed\n",
    "# companies = long_tweets.company.drop_duplicates()\n",
    "# companies"
   ]
  },
  {
   "cell_type": "markdown",
   "metadata": {},
   "source": [
    "TODO: Pickle for future reloading. Save time on preprocessing"
   ]
  },
  {
   "cell_type": "code",
   "execution_count": 35,
   "metadata": {
    "collapsed": false
   },
   "outputs": [],
   "source": [
    "long_tweets.to_pickle('data/long_tweets.pkl')"
   ]
  },
  {
   "cell_type": "code",
   "execution_count": 10,
   "metadata": {
    "collapsed": false
   },
   "outputs": [],
   "source": [
    "long_tweets = pd.read_pickle('data/long_tweets.pkl')\n"
   ]
  },
  {
   "cell_type": "markdown",
   "metadata": {},
   "source": [
    "# Prepare tf-idf and count vectorizers; investigate terms by count"
   ]
  },
  {
   "cell_type": "markdown",
   "metadata": {},
   "source": [
    "Remove stop words from analysis"
   ]
  },
  {
   "cell_type": "code",
   "execution_count": 11,
   "metadata": {
    "collapsed": false
   },
   "outputs": [],
   "source": [
    "# add additional stop words\n",
    "stop = stop.union({ u'hyperlink', u'rt', u'amp'})\n",
    "\n",
    "stop = stop.union({u'solar energy', u'solar', u'solar power', u'power', u'energy', u'solarchat', u'greentechmedia', 'cleantechnica'})"
   ]
  },
  {
   "cell_type": "markdown",
   "metadata": {},
   "source": [
    "A lot of companies use their name. I need to create a stop word for each of the terms."
   ]
  },
  {
   "cell_type": "code",
   "execution_count": 12,
   "metadata": {
    "collapsed": false
   },
   "outputs": [],
   "source": [
    "\n",
    "stop = stop.union({u'ice pop truck'})\n",
    "\n",
    "# remove the names\n",
    "stop = stop.union({u'lynn', u'lynn jurich', u'jurich', u'lyndon rive', u'lyndon', u'rive', u'ceo', u'founder', u'ceo lyndon', u'ceo lyndon rive', u\"danny kennedy\", u\"danny\", u\"kennedy\", u\"dannyksfun\", u'rainarusso', u'carlsiegrist'})\n",
    "stop = stop.union(set(open('data/additional_stop_word.txt','r').read().split(\", \")))"
   ]
  },
  {
   "cell_type": "markdown",
   "metadata": {},
   "source": [
    "## Count-Vecterizor\n",
    "\n",
    "\n",
    "\n"
   ]
  },
  {
   "cell_type": "code",
   "execution_count": 13,
   "metadata": {
    "collapsed": false
   },
   "outputs": [],
   "source": [
    "# come back and check min df\n",
    "\n",
    "def create_count_matrix(df, max_features_count=None, comp=None):\n",
    "    count_vect = CountVectorizer(analyzer = \"word\", \n",
    "                                       tokenizer = None, \n",
    "                                       preprocessor = None, \n",
    "                                       stop_words = stop, \n",
    "                                       max_features = max_features_count,\n",
    "                                       ngram_range = (1, 3), \n",
    "                                       min_df = 1) \n",
    "    if comp == None:\n",
    "        matrix = count_vect.fit_transform(df.tokens)\n",
    "        \n",
    "    else:\n",
    "        matrix = count_vect.fit_transform(df[df.company == comp].tokens)\n",
    "    \n",
    "    return count_vect, matrix    "
   ]
  },
  {
   "cell_type": "code",
   "execution_count": 14,
   "metadata": {
    "collapsed": false
   },
   "outputs": [
    {
     "name": "stdout",
     "output_type": "stream",
     "text": [
      "408034\n"
     ]
    }
   ],
   "source": [
    "count_vect, matrix = create_count_matrix(long_tweets)\n",
    "\n",
    "# Review total dimensionality of the analysis\n",
    "print(matrix.shape[1])"
   ]
  },
  {
   "cell_type": "markdown",
   "metadata": {},
   "source": [
    "prepare list of most common words for each company"
   ]
  },
  {
   "cell_type": "code",
   "execution_count": 15,
   "metadata": {
    "collapsed": false
   },
   "outputs": [],
   "source": [
    "# get word count\n",
    "\n",
    "# grams = count_vect.get_feature_names()\n",
    "# dist = np.sum(matrix.toarray(), axis = 0)\n",
    "# grams_sorted = sorted(zip(grams, dist), key = lambda x: x[1], reverse = True)[10:20]\n",
    "# print('\\n', comp, '\\n')\n",
    "# print(grams_sorted)"
   ]
  },
  {
   "cell_type": "code",
   "execution_count": 16,
   "metadata": {
    "collapsed": false,
    "scrolled": true
   },
   "outputs": [],
   "source": [
    "# show most popular words for each company\n",
    "\n",
    "# for c in companies:\n",
    "#     try:\n",
    "#         get_word_count(c, long_tweets) \n",
    "#     except Exception:\n",
    "#         c\n",
    "    "
   ]
  },
  {
   "cell_type": "markdown",
   "metadata": {},
   "source": [
    "## TDIDF\n",
    "\n",
    "Here, I define term frequency-inverse document frequency (tf-idf) vectorizer parameters and then convert the synopses list into a tf-idf matrix. To get a Tf-idf matrix, first count word occurrences by document. This is transformed into a document-term matrix (dtm). This is also just called a term frequency matrix. An example of a dtm is here at right.\n",
    "Then apply the term frequency-inverse document frequency weighting: words that occur frequently within a document but not frequently within the corpus receive a higher weighting as these words are assumed to contain more meaning in relation to the document.\n",
    "A couple things to note about the parameters I define below:\n",
    "max_df: this is the maximum frequency within the documents a given feature can have to be used in the tfi-idf matrix. If the term is in greater than 80% of the documents it probably cares little meanining (in the context of film synopses)\n",
    "min_idf: this could be an integer (e.g. 5) and the term would have to be in at least 5 of the documents to be considered. Here I pass 0.2; the term must be in at least 20% of the document. I found that if I allowed a lower min_df I ended up basing clustering on names--for example \"Michael\" or \"Tom\" are names found in several of the movies and the synopses use these names frequently, but the names carry no real meaning.\n",
    "ngram_range: this just means I'll look at unigrams, bigrams and trigrams. See [n-grams](http://en.wikipedia.org/wiki/N-gram)"
   ]
  },
  {
   "cell_type": "code",
   "execution_count": 32,
   "metadata": {
    "collapsed": true
   },
   "outputs": [],
   "source": [
    "def create_tdidf_matrix(df, comp=None):\n",
    "    vect = TfidfVectorizer(max_df = 0.8,\n",
    "                           min_df = 5, \n",
    "                           stop_words = stop,\n",
    "                           use_idf = True, \n",
    "                           tokenizer = None, \n",
    "                           ngram_range=(1, 3))\n",
    "\n",
    "    if comp == None:\n",
    "        matrix = vect.fit_transform(df.tokens)\n",
    "        \n",
    "    else:\n",
    "        matrix = count_vect.fit_transform(df[df.company == comp].tokens)\n",
    "    \n",
    "    return vect, matrix   \n",
    "\n",
    "    "
   ]
  },
  {
   "cell_type": "code",
   "execution_count": 34,
   "metadata": {
    "collapsed": false
   },
   "outputs": [
    {
     "data": {
      "text/plain": [
       "(42288, 13950)"
      ]
     },
     "execution_count": 34,
     "metadata": {},
     "output_type": "execute_result"
    }
   ],
   "source": [
    "count_vect_tdidf, tfidf_matrix = create_tdidf_matrix(long_tweets)\n",
    "tfidf_matrix.shape\n"
   ]
  },
  {
   "cell_type": "markdown",
   "metadata": {},
   "source": [
    "dist is defined as 1 - the cosine similarity of each document. Cosine similarity is measured against the tf-idf matrix and can be used to generate a measure of similarity between each document and the other documents in the corpus (each synopsis among the synopses). Subtracting it from 1 provides cosine distance which I will use for plotting on a euclidean (2-dimensional) plane.\n",
    "Note that with dist it is possible to evaluate the similarity of any two or more synopses."
   ]
  },
  {
   "cell_type": "code",
   "execution_count": null,
   "metadata": {
    "collapsed": false
   },
   "outputs": [],
   "source": [
    "from sklearn.metrics.pairwise import cosine_similarity\n",
    "dist = 1 - cosine_similarity(tfidf_matrix)"
   ]
  },
  {
   "cell_type": "code",
   "execution_count": null,
   "metadata": {
    "collapsed": false
   },
   "outputs": [],
   "source": [
    "import matplotlib as mpl\n",
    "\n",
    "from sklearn.manifold import MDS\n",
    "\n",
    "MDS()\n",
    "\n",
    "# convert two components as we're plotting points in a two-dimensional plane\n",
    "# \"precomputed\" because we provide a distance matrix\n",
    "# we will also specify `random_state` so the plot is reproducible.\n",
    "mds = MDS(n_components=2, dissimilarity=\"precomputed\", random_state=1)\n",
    "\n",
    "pos = mds.fit_transform(dist)  # shape (n_components, n_samples)\n",
    "\n",
    "xs, ys = pos[:, 0], pos[:, 1]\n",
    "print()\n",
    "print()"
   ]
  },
  {
   "cell_type": "markdown",
   "metadata": {},
   "source": [
    "# Apply k-means clustering to determine topics\n",
    "\n",
    "Now onto the fun part. Using the tf-idf matrix, you can run a slew of clustering algorithms to better understand the hidden structure within the synopses. I first chose k-means. K-means initializes with a pre-determined number of clusters (I chose 5). Each observation is assigned to a cluster (cluster assignment) so as to minimize the within cluster sum of squares. Next, the mean of the clustered observations is calculated and used as the new cluster centroid. Then, observations are reassigned to clusters and centroids recalculated in an iterative process until the algorithm reaches convergence.\n",
    "I found it took several runs for the algorithm to converge a global optimum as k-means is susceptible to reaching local optima."
   ]
  },
  {
   "cell_type": "code",
   "execution_count": 23,
   "metadata": {
    "collapsed": true
   },
   "outputs": [],
   "source": [
    "def km_means(vect, print_output=False, true_k=5, comp=None):\n",
    "\n",
    "    grams = vect.get_feature_names()\n",
    "    km = KMeans(n_clusters=true_k)\n",
    "    km.fit(matrix)\n",
    "    clusters = km.labels_.tolist()\n",
    "    order_centroids = km.cluster_centers_.argsort()[:, ::-1]\n",
    "    \n",
    "    if print_output:\n",
    "        print('\\n', comp)\n",
    "        for i in range(true_k):\n",
    "            print(\"\\nCluster %d:\" % i)\n",
    "            print(', '.join([grams[ind] for ind in order_centroids[i, :25]]))\n",
    "            print()\n",
    "    \n",
    "    return km\n",
    "    \n"
   ]
  },
  {
   "cell_type": "code",
   "execution_count": 24,
   "metadata": {
    "collapsed": false
   },
   "outputs": [
    {
     "name": "stdout",
     "output_type": "stream",
     "text": [
      "\n",
      " None\n",
      "\n",
      "Cluster 0:\n",
      "happy, wish, companyreference, wish family happy, wish family, family happy, family, family happy thanksgiving, happy thanksgiving, thanksgiving, companyreference wish family, companyreference wish, comfort, memorial day, post happy memorial, post happy, day companyreference, blog post happy, happy thanksgiving companyreference, family happy mem, mem, blog, memorial day companyreference, memorial, happy mem\n",
      "\n",
      "\n",
      "Cluster 1:\n",
      "cityname, companyreference, statename, datereference, today, clean, city, cityname statename, companyreference cityname, green, panel, installation, job, company, check, join, program, vote, business, year, instal, hire, week, usermention, county\n",
      "\n",
      "\n",
      "Cluster 2:\n",
      "obama, president, president obama, climate, change, clean, plan, climate change, wind, renewable, actonclimate, house, address, double, state, white, white house, administration, obama administration, panel, action, statename, support, cut, government\n",
      "\n",
      "\n",
      "Cluster 3:\n",
      "place rank nationally, second, usermention fool statename, fool, destroy, nationally monopoly, rank nationally monopoly, rank nationally, rank, lose, job, growth, fool statename, fool statename lose, place, nationally, statename lose second, second place rank, second place, statename lose, usermention fool, nationally monopoly destroy, usermention, place rank, statename\n",
      "\n",
      "\n",
      "Cluster 4:\n",
      "partner, buy, companyreference partner buy, companyreference partner, partner buy, companyreference, solution, amazing save solution, save solution, amazing, partner buy offer, amazing save, save, offer, buy offer amazing, buy offer, offer amazing, offer amazing save, buy utlimate green, partner buy utlimate, utlimate, utlimate green partner, buy utlimate, utlimate green, green\n",
      "\n",
      "\n",
      "Cluster 5:\n",
      "datereference, statename, companyreference, timereference, th, join, datereference timereference, datereference th, happy, free, open, house, open house, today, green, usermention, check, happy datereference, learn, event, visit, time, look, cityname, datereference datereference\n",
      "\n",
      "\n",
      "Cluster 6:\n",
      "statename, statename statename, statename statename statename, state, seia, companyreference, lead, usermention, coal, news statename, free, news, big, statename lead, nation, free statename, coast, coal free, coal free statename, installation, ct, installation statename, net, expand, statename dc\n",
      "\n",
      "\n",
      "Cluster 7:\n",
      "pec, short survey voice, pec customer, pec customer short, pec rate, voice, attention pec, attention pec customer, hear pec, hear pec rate, voice hear pec, customer, survey, short survey, short, rate, attention, voice hear, survey voice hear, hear, survey voice, customer short, customer short survey, fee, pec rate fee\n",
      "\n",
      "\n",
      "Cluster 8:\n",
      "year, panel, green, check, clean, today, help, world, time, renewable, use, seia, news, industry, electricity, job, project, cost, save, free, electric, climate, installation, look, utility\n",
      "\n",
      "\n",
      "Cluster 9:\n",
      "email, usermention, email address, address, dm, dm email, dm email address, send, thanks, email address send, address send, card, bingo, thx, send bingo, bingo card, send bingo card, address send bingo, statename, usermention thanks, usermention statename, claim form, form, plz, claim\n",
      "\n",
      "\n",
      "Cluster 10:\n",
      "vehicle charger cleant, charger cleant, add, lot, vehicle, lot electric vehicle, lot electric, seia sandiegozoo, seia sandiegozoo add, sandiegozoo add pv, canopy parking, sandiegozoo add, sandiegozoo, canopy, charger, pv, vehicle charger, cleant, parking, electric, canopy parking lot, parking lot electric, add pv canopy, add pv, parking lot\n",
      "\n",
      "\n",
      "Cluster 11:\n",
      "day, datereference, companyreference, statename, happy, earth, earth day, today, national, gosolar, year, shout, celebrate, shout day, clean, day datereference, work, panel, cityname, vote, free, beautiful, help, action, leave\n",
      "\n",
      "\n",
      "Cluster 12:\n",
      "statename, state, job, year, clean, today, utility, renewable, panel, project, help, net, green, news, metering, net metering, time, customer, check, seia, industry, big, save, statename statename, electric\n",
      "\n",
      "\n",
      "Cluster 13:\n",
      "pv, large, nation, competition, large powered, large powered boat, statename luck, statename luck pv, powered, temecula, nation large, statename, boat, nation large powered, luck pv, temecula statename, datereference, temecula statename luck, luck, powered boat competition, datereference temecula statename, competition datereference temecula, powered boat, datereference temecula, competition datereference\n",
      "\n",
      "\n",
      "Cluster 14:\n",
      "fight, climate, poise help, industry uniquely, industry, industry uniquely poise, poise, climate change, help, uniquely poise help, uniquely poise, uniquely, fight climate, fight climate change, change, help fight climate, help fight, poise help fight, seia, rhoneresch reworld, enphase share, message, rhone, rhoneresch reworld usclim, rhone resch\n",
      "\n",
      "\n",
      "Cluster 15:\n",
      "companyreference, statename, story, today, companyreference story, panel, check, thanks, usermention, customer, company, green, year, help, news, installation, commercial, work, job, pv, project, residential, companyreference companyreference, instal, gosolar\n",
      "\n",
      "\n",
      "Cluster 16:\n",
      "usermention, thanks, statename, hear, usermention thanks, dm, sorry, thank, look, time, address, help, usermention sorry, sorry hear, usermention statename, stay, update, usermention sorry hear, contact, follow, send, email, tune, stay tune, customer\n",
      "\n",
      "\n",
      "Cluster 17:\n",
      "save, money, save money, help, companyreference, statename, easy, efficient, change, money save, save money efficient, money efficient, efficient change easy, efficient change, change easy, money efficient change, help save, green, electric, help save money, electricity, datereference, customer, today, time\n",
      "\n",
      "\n",
      "Cluster 18:\n",
      "companyreference, offer, companyreference pump, fantastic service, fantastic, award offer, award offer fantastic, award, companyreference award, service companyreference, congrats, congrats companyreference award, congrats companyreference, companyreference pump offer, fantastic service companyreference, service companyreference pump, pump, service, pump offer, offer fantastic service, offer fantastic, companyreference award offer, follower thanks, follower spicon, follower spicon attendee\n",
      "\n",
      "\n",
      "Cluster 19:\n",
      "water, technology, use, hot, heating, hot water, water heating, clean, heater, water heater, save, help, heat, year, green, gallon, panel, world, statename, cool, green technology, electricity, rate, time, powered\n",
      "\n"
     ]
    }
   ],
   "source": [
    "km_countvect = km_means(count_vect, print_output=True, true_k=20, comp=None)"
   ]
  },
  {
   "cell_type": "code",
   "execution_count": 26,
   "metadata": {
    "collapsed": false
   },
   "outputs": [
    {
     "name": "stdout",
     "output_type": "stream",
     "text": [
      "\n",
      " None\n",
      "\n",
      "Cluster 0:\n",
      "cityname, statename, datereference, companyreference, clean, city, cityname statename, today, join, job, green, usermention, day, installation, year, hire, learn, instal, donation, week, select, business, vote, clean donation, program\n",
      "\n",
      "\n",
      "Cluster 1:\n",
      "partner, buy, companyreference partner buy, companyreference partner, partner buy, companyreference, solution, amazing save solution, save solution, amazing, partner buy offer, amazing save, save, offer, buy offer amazing, buy offer, offer amazing, offer amazing save, buy utlimate green, partner buy utlimate, utlimate, utlimate green partner, buy utlimate, utlimate green, green\n",
      "\n",
      "\n",
      "Cluster 2:\n",
      "climate, change, climate change, time, science, usermention, statename, science climate change, science climate, deny science climate, change time, climate change time, deny, deny science, congress, usermention deny, time congress, usermention deny science, change time congress, help, fight, obama, fight climate change, fight climate, address\n",
      "\n",
      "\n",
      "Cluster 3:\n",
      "year, today, clean, save, green, day, help, use, renewable, time, world, seia, industry, news, electricity, free, job, cost, electric, utility, look, learn, customer, need, big\n",
      "\n",
      "\n",
      "Cluster 4:\n",
      "statename, companyreference, state, job, clean, today, year, utility, project, renewable, save, help, statename statename, net, day, green, customer, news, metering, net metering, time, seia, instal, installation, industry\n",
      "\n",
      "\n",
      "Cluster 5:\n",
      "phase combustion engine, vehicle, datereference phase combustion, datereference phase, future car, phase, combustion, combustion engine, car datereference, combustion engine year, engine year, car datereference phase, usermention, engine, phase combustion, electric, car, future car datereference, electric vehicle future, vehicle future car, future, vehicle future, datereference, electric vehicle, usermention electric vehicle\n",
      "\n",
      "\n",
      "Cluster 6:\n",
      "timereference, join datereference th, gateway, th timereference holiday, datereference th timereference, timereference holiday inn, timereference holiday, th timereference, datereference, join datereference, inn, holiday, inn torrance, datereference th, join, torrance, th, holiday inn, holiday inn torrance, inn torrance gateway, torrance gateway, meet recruiter job, meet recruiter, gateway meet, gateway meet recruiter\n",
      "\n",
      "\n",
      "Cluster 7:\n",
      "video youtube playlist, video, add video, add video youtube, add, youtube playlist, playlist, youtube, video youtube, statename, customer, roof, customer testimonial, testimonial, playlist customer, youtube playlist customer, installation, playlist customer testimonial, companyreference, sign, shingle, playlist statename, roof shingle, youtube playlist statename, residential\n",
      "\n",
      "\n",
      "Cluster 8:\n",
      "companyreference, story, companyreference story, companyreference companyreference, buy, residential, cityname, statename, commercial, companyreference residential, installer, buy companyreference, company, presstelegram, pv, datereference, division, acquire, today, installation, residential division, companyreference buy, companyreference cityname, company companyreference, usermention\n",
      "\n",
      "\n",
      "Cluster 9:\n",
      "green, center san, green project, dimas green project, san dimas green, san dimas, project, center san dimas, child center san, child center, san, dimas, child, dimas green, center, green news child, green news, news child, news child center, news, green child center, green child, project fb, fb, green project fb\n",
      "\n",
      "\n",
      "Cluster 10:\n",
      "panel, companyreference, statename, instal, sunpower, install, cityname, roof, installation, sunpower panel, companyreference panel, house, day, usermention, panel instal, instal panel, company, work, datereference, save, cost, clean, today, time, year\n",
      "\n",
      "\n",
      "Cluster 11:\n",
      "matteroftrust, compost, presidio matteroftrust, climate event, carbon compost, event, presidio, carbon compost climate, climate, compost climate event, carbon, compost climate, charging station today, today, companyreference presidio matteroftrust, climate event zerowaste, climate event presidio, station, zerowaste, zerowaste zerowasteflashmob, zerowaste zerowasteflashmob matteroftrust, matteroftrust carbon, zerowasteflashmob, zerowasteflashmob matteroftrust, charging station\n",
      "\n",
      "\n",
      "Cluster 12:\n",
      "check, companyreference, statename, usermention, check companyreference, video, article, today, little, cityname, blog, pinterest, job, late, installation, green, website, board, want, project, saving, follow, check article, check late, check video\n",
      "\n",
      "\n",
      "Cluster 13:\n",
      "usermention, stay, update, tune, stay tune, thanks, time, growth, statename, announcement, tune update, stay tune update, someday, news, twitter, usermention thanks, news growth, expansion, someday stay, tune twitter, stay tune twitter, tuned, stay tuned, someday stay tune, statename stay\n",
      "\n",
      "\n",
      "Cluster 14:\n",
      "datereference, th, datereference th, companyreference, join, statename, th datereference, timereference, cityname, annual, th timereference, day, datereference th timereference, solarize, free, th annual, happy, parade, center, fair, join datereference, kailua, workshop, join datereference th, today\n",
      "\n",
      "\n",
      "Cluster 15:\n",
      "edcasehawaii, mahalo, jsa krazeapparel edcasehawaii, jsa krazeapparel, follower bradberman, mahalo follower, mahalo follower bradberman, edcasehawaii scottmorifuji, honoluluplace, honoluluplace hiloliv, honoluluplace hiloliv jsa, jsa, hiloliv jsa krazeapparel, hiloliv jsa, hiloliv, follower, scottmorifuji, bradberman, krazeapparel edcasehawaii scottmorifuji, healthylive honoluluplace hiloliv, healthylive honoluluplace, healthylive, bradberman healthylive, follower bradberman healthylive, krazeapparel edcasehawaii\n",
      "\n",
      "\n",
      "Cluster 16:\n",
      "datereference, statename, companyreference, timereference, day, datereference timereference, happy, join, open, free, house, open house, today, usermention, green, happy datereference, time, event, save, st, learn, visit, look, house datereference, open house datereference\n",
      "\n",
      "\n",
      "Cluster 17:\n",
      "companyreference, cityname, today, thanks, day, year, usermention, green, customer, save, company, help, happy, work, news, solarpower, gosolar, installation, project, post, program, team, business, instal, job\n",
      "\n",
      "\n",
      "Cluster 18:\n",
      "usermention, thanks, statename, hear, dm, sorry, usermention thanks, thank, address, look, help, usermention sorry, sorry hear, email, usermention statename, send, usermention sorry hear, follow, contact, reach, customer, useremailaddress, team, companyreference, info\n",
      "\n",
      "\n",
      "Cluster 19:\n",
      "close cost save, benefit, cityname, close, cost save, cost save benefit, save, cheer, week, cityname program, bring cheer, week cityname program, week cityname, cost, cityname program close, save benefit, bring, benefit bring, program close, program, save benefit bring, program close cost, close cost, benefit bring cheer, follower heyitsgonnabeokay\n",
      "\n"
     ]
    }
   ],
   "source": [
    "km_tdidf_vect = km_means(count_vect_tdidf, print_output=True, true_k=20, comp=None)"
   ]
  },
  {
   "cell_type": "code",
   "execution_count": 27,
   "metadata": {
    "collapsed": false
   },
   "outputs": [],
   "source": [
    "# first = get_clusters_counts('SunRun', long_tweets, 20)"
   ]
  },
  {
   "cell_type": "code",
   "execution_count": 28,
   "metadata": {
    "collapsed": false
   },
   "outputs": [
    {
     "name": "stdout",
     "output_type": "stream",
     "text": [
      "CPU times: user 3.15 s, sys: 63.8 ms, total: 3.21 s\n",
      "Wall time: 3.21 s\n",
      "CPU times: user 8.44 s, sys: 348 ms, total: 8.78 s\n",
      "Wall time: 8.8 s\n",
      "CPU times: user 9.81 s, sys: 526 ms, total: 10.3 s\n",
      "Wall time: 10.4 s\n",
      "CPU times: user 16.6 s, sys: 960 ms, total: 17.5 s\n",
      "Wall time: 17.5 s\n",
      "CPU times: user 22.2 s, sys: 1.43 s, total: 23.7 s\n",
      "Wall time: 23.7 s\n",
      "CPU times: user 23.6 s, sys: 1.73 s, total: 25.4 s\n",
      "Wall time: 25.4 s\n",
      "CPU times: user 19.9 s, sys: 1.42 s, total: 21.3 s\n",
      "Wall time: 21.3 s\n",
      "CPU times: user 23.6 s, sys: 1.84 s, total: 25.4 s\n",
      "Wall time: 25.4 s\n",
      "CPU times: user 24.4 s, sys: 2.05 s, total: 26.4 s\n",
      "Wall time: 26.4 s\n",
      "CPU times: user 30.2 s, sys: 2.58 s, total: 32.8 s\n",
      "Wall time: 32.8 s\n",
      "CPU times: user 36.6 s, sys: 3.2 s, total: 39.8 s\n",
      "Wall time: 39.8 s\n",
      "CPU times: user 31.3 s, sys: 2.97 s, total: 34.3 s\n",
      "Wall time: 34.3 s\n",
      "CPU times: user 41.8 s, sys: 3.97 s, total: 45.8 s\n",
      "Wall time: 45.8 s\n",
      "CPU times: user 43.3 s, sys: 4.23 s, total: 47.5 s\n",
      "Wall time: 47.5 s\n",
      "CPU times: user 47.1 s, sys: 4.8 s, total: 51.9 s\n",
      "Wall time: 51.9 s\n",
      "CPU times: user 50.8 s, sys: 5.32 s, total: 56.1 s\n",
      "Wall time: 56.1 s\n",
      "CPU times: user 49.9 s, sys: 5.38 s, total: 55.2 s\n",
      "Wall time: 55.2 s\n",
      "CPU times: user 1min, sys: 6.44 s, total: 1min 6s\n",
      "Wall time: 1min 6s\n",
      "CPU times: user 58.2 s, sys: 6.48 s, total: 1min 4s\n",
      "Wall time: 1min 4s\n",
      "CPU times: user 53.2 s, sys: 6.04 s, total: 59.2 s\n",
      "Wall time: 59.2 s\n",
      "CPU times: user 1min 14s, sys: 8.55 s, total: 1min 23s\n",
      "Wall time: 1min 23s\n",
      "CPU times: user 1min 9s, sys: 7.96 s, total: 1min 17s\n",
      "Wall time: 1min 17s\n",
      "CPU times: user 1min 16s, sys: 9.33 s, total: 1min 26s\n",
      "Wall time: 1min 26s\n",
      "CPU times: user 1min 9s, sys: 8.43 s, total: 1min 17s\n",
      "Wall time: 1min 17s\n",
      "CPU times: user 1min 17s, sys: 9.32 s, total: 1min 26s\n",
      "Wall time: 1min 26s\n",
      "CPU times: user 1min 17s, sys: 9.36 s, total: 1min 26s\n",
      "Wall time: 1min 26s\n",
      "CPU times: user 1min 27s, sys: 10.6 s, total: 1min 38s\n",
      "Wall time: 1min 38s\n",
      "CPU times: user 1min 20s, sys: 9.99 s, total: 1min 30s\n",
      "Wall time: 1min 30s\n",
      "CPU times: user 1min 26s, sys: 11 s, total: 1min 37s\n",
      "Wall time: 1min 37s\n",
      "CPU times: user 1min 45s, sys: 13.3 s, total: 1min 59s\n",
      "Wall time: 1min 59s\n",
      "CPU times: user 1min 32s, sys: 11.5 s, total: 1min 43s\n",
      "Wall time: 1min 43s\n",
      "CPU times: user 1min 36s, sys: 12.5 s, total: 1min 49s\n",
      "Wall time: 1min 49s\n",
      "CPU times: user 1min 50s, sys: 14.2 s, total: 2min 4s\n",
      "Wall time: 2min 4s\n",
      "CPU times: user 1min 53s, sys: 14.8 s, total: 2min 8s\n",
      "Wall time: 2min 8s\n",
      "CPU times: user 1min 47s, sys: 14.2 s, total: 2min 1s\n",
      "Wall time: 2min 1s\n",
      "CPU times: user 1min 44s, sys: 13.9 s, total: 1min 58s\n",
      "Wall time: 1min 58s\n",
      "CPU times: user 1min 57s, sys: 15.4 s, total: 2min 12s\n",
      "Wall time: 2min 12s\n",
      "CPU times: user 1min 47s, sys: 14.3 s, total: 2min 2s\n",
      "Wall time: 2min 2s\n",
      "CPU times: user 1min 49s, sys: 14.4 s, total: 2min 3s\n",
      "Wall time: 2min 3s\n",
      "CPU times: user 2min 30s, sys: 19.6 s, total: 2min 49s\n",
      "Wall time: 2min 49s\n",
      "CPU times: user 2min 9s, sys: 17.1 s, total: 2min 27s\n",
      "Wall time: 2min 26s\n",
      "CPU times: user 2min 10s, sys: 33.5 s, total: 2min 43s\n",
      "Wall time: 2min 43s\n",
      "CPU times: user 2min 24s, sys: 37.6 s, total: 3min 1s\n",
      "Wall time: 3min 1s\n",
      "CPU times: user 2min 33s, sys: 40 s, total: 3min 13s\n",
      "Wall time: 3min 13s\n",
      "CPU times: user 3min 11s, sys: 50.2 s, total: 4min 1s\n",
      "Wall time: 4min 1s\n",
      "CPU times: user 2min 37s, sys: 41.3 s, total: 3min 19s\n",
      "Wall time: 3min 19s\n",
      "CPU times: user 2min 40s, sys: 42 s, total: 3min 23s\n",
      "Wall time: 3min 23s\n",
      "CPU times: user 2min 43s, sys: 43.9 s, total: 3min 27s\n",
      "Wall time: 3min 29s\n",
      "CPU times: user 2min 57s, sys: 46.2 s, total: 3min 44s\n",
      "Wall time: 3min 44s\n"
     ]
    }
   ],
   "source": [
    "# plot k vs. intertia\n",
    "inertias = []\n",
    "for k in range(1, 50):\n",
    "    %time mod = km_means(count_vect, print_output=False, true_k=k, comp=None)\n",
    "    inertias.append(mod.inertia_)"
   ]
  },
  {
   "cell_type": "code",
   "execution_count": 29,
   "metadata": {
    "collapsed": false,
    "scrolled": true
   },
   "outputs": [
    {
     "data": {
      "image/png": "[encoded data removed]",
      "text/plain": [
       "<matplotlib.figure.Figure at 0x12e55af28>"
      ]
     },
     "metadata": {},
     "output_type": "display_data"
    }
   ],
   "source": [
    "plt.plot(range(1,50), inertias)\n",
    "plt.title('K vs. Intertia: Tweets')\n",
    "plt.xlabel('K')\n",
    "plt.ylabel('Inertia')\n",
    "plt.show()"
   ]
  },
  {
   "cell_type": "markdown",
   "metadata": {},
   "source": [
    "With tdidf"
   ]
  },
  {
   "cell_type": "code",
   "execution_count": 30,
   "metadata": {
    "collapsed": false
   },
   "outputs": [],
   "source": [
    "# get_clusters_tfidf('SolarCity', long_tweets, 10)"
   ]
  },
  {
   "cell_type": "code",
   "execution_count": null,
   "metadata": {
    "collapsed": false
   },
   "outputs": [],
   "source": [
    "tfidf_inertias = []\n",
    "for k in range(1, 50):\n",
    "    mod = km_means(count_vect_tdidf, print_output=False, true_k=k, comp=None)\n",
    "    tfidf_inertias.append(mod.inertia_)"
   ]
  },
  {
   "cell_type": "code",
   "execution_count": null,
   "metadata": {
    "collapsed": true
   },
   "outputs": [],
   "source": [
    "plt.plot(range(1,51), tfidf_inertias)\n",
    "plt.title('K vs. TDIDF Intertia: Tweets')\n",
    "plt.xlabel('K')\n",
    "plt.ylabel('Inertia')\n",
    "plt.show()"
   ]
  },
  {
   "cell_type": "markdown",
   "metadata": {
    "collapsed": true
   },
   "source": [
    "# Apply topic modeling with LDA and visualize with pyLDAvis to adjust parameters\n"
   ]
  },
  {
   "cell_type": "code",
   "execution_count": 7,
   "metadata": {
    "collapsed": false
   },
   "outputs": [],
   "source": [
    "def print_top_words(model, feature_names, n_top_words = 20):\n",
    "    \"\"\"Print top words in each topic.\"\"\"\n",
    "    for topic_idx, topic in enumerate(model.components_):\n",
    "        print(\"\\nTopic #%d:\" % topic_idx)\n",
    "        print(\", \".join([feature_names[i] for i in topic.argsort()[:-n_top_words - 1:-1]]))"
   ]
  },
  {
   "cell_type": "code",
   "execution_count": 8,
   "metadata": {
    "collapsed": true
   },
   "outputs": [],
   "source": [
    "def get_doc_topics(doc_topic_dist):\n",
    "    \"\"\"Return list of topics for documents, given doc topic distribution\"\"\"\n",
    "    return [np.argmax(topic) for doc, topic in enumerate(doc_topic_dist)]"
   ]
  },
  {
   "cell_type": "markdown",
   "metadata": {},
   "source": [
    "All tweets; run topic modeling with each tweet as separate document"
   ]
  },
  {
   "cell_type": "code",
   "execution_count": 9,
   "metadata": {
    "collapsed": false
   },
   "outputs": [],
   "source": [
    "def get_topics_lda(docs, df, n_topics = 4):   \n",
    "    count_vect = CountVectorizer(analyzer = \"word\", \n",
    "                                       tokenizer = None, \n",
    "                                       preprocessor = None, \n",
    "                                       stop_words = stop, \n",
    "                                       max_features = 10000,\n",
    "                                       ngram_range = (1, 5), \n",
    "                                       min_df = 10) \n",
    "    matrix = count_vect.fit_transform(docs)\n",
    "    vocab = count_vect.get_feature_names()\n",
    "    \n",
    "    # fit transform lda\n",
    "    lda = LatentDirichletAllocation(n_topics=n_topics, doc_topic_prior = .001, max_iter=5,\n",
    "                learning_method='online', learning_offset=50.,\n",
    "                random_state=0)\n",
    "    doc_topic_dists = lda.fit_transform(matrix)\n",
    "    \n",
    "\n",
    "#     print(\"\\nTopics in LDA model:\", cand)\n",
    "#     print_top_words(lda, vocab)\n",
    "    \n",
    "    # prepare pyLDAvis stuff \n",
    "    get_normed = lambda data: pd.DataFrame(data).div(data.sum(axis = 1), axis = 0) \n",
    "    prepared = pyLDAvis.prepare(\n",
    "            doc_lengths = docs.str.len(),\n",
    "            vocab = vocab,\n",
    "            term_frequency = np.asarray(matrix.sum(axis = 0)).ravel().tolist(),\n",
    "            topic_term_dists = get_normed(lda.components_), # topics x terms \n",
    "            doc_topic_dists = get_normed(doc_topic_dists)) # docs x topics \n",
    "    \n",
    "    return lda, vocab, doc_topic_dists, prepared"
   ]
  },
  {
   "cell_type": "code",
   "execution_count": 18,
   "metadata": {
    "collapsed": false
   },
   "outputs": [],
   "source": [
    "# with tf-idf\n",
    "\n",
    "# with tf-idf\n",
    "def get_topics_lda_tfidf(docs, df, n_topics = 4):   \n",
    "    vect = TfidfVectorizer(max_df = 0.8, \n",
    "                           max_features = 200000,\n",
    "                           min_df = 5, \n",
    "                           stop_words = stop,\n",
    "                           use_idf = True, \n",
    "                           tokenizer = None, \n",
    "                           ngram_range=(1, 3))\n",
    "    \n",
    "    matrix = vect.fit_transform(docs)\n",
    "    vocab = vect.get_feature_names()\n",
    "    \n",
    "    # fit transform lda\n",
    "    lda = LatentDirichletAllocation(n_topics=n_topics, doc_topic_prior = .001, max_iter=20,\n",
    "                learning_method='online', learning_offset=50.,\n",
    "                random_state=0)\n",
    "    doc_topic_dists = lda.fit_transform(matrix)\n",
    "    \n",
    "    print(\"next\")\n",
    "    \n",
    "\n",
    "    \n",
    "    # prepare pyLDAvis stuff \n",
    "    get_normed = lambda data: pd.DataFrame(data).div(data.sum(axis = 1), axis = 0) \n",
    "    prepared = pyLDAvis.prepare(\n",
    "            doc_lengths = docs.str.len(),\n",
    "            vocab = vocab,\n",
    "            term_frequency = np.asarray(matrix.sum(axis = 0)).ravel().tolist(),\n",
    "            topic_term_dists = get_normed(lda.components_), # topics x terms \n",
    "            doc_topic_dists = get_normed(doc_topic_dists)) # docs x topics \n",
    "    \n",
    "    return lda, vocab, doc_topic_dists, prepared\n",
    "    \n",
    "    \n",
    "    "
   ]
  },
  {
   "cell_type": "code",
   "execution_count": null,
   "metadata": {
    "collapsed": false,
    "scrolled": false
   },
   "outputs": [],
   "source": [
    "all_lda, vocab, all_doc_topics, all_prepared= get_topics_lda(long_tweets.tokens, long_tweets, 20)"
   ]
  },
  {
   "cell_type": "markdown",
   "metadata": {},
   "source": [
    "Using TFIDF"
   ]
  },
  {
   "cell_type": "code",
   "execution_count": 19,
   "metadata": {
    "collapsed": false,
    "scrolled": true
   },
   "outputs": [
    {
     "name": "stdout",
     "output_type": "stream",
     "text": [
      "next\n",
      "\n",
      "Topic #0:\n",
      "energy, hyperlink, solar, greentechmedia, hyperlink greentechmedia, renewable, greentech, medium, renewable energy, renewableenergy, greentech medium, medium hyperlink, greentech medium hyperlink, medium hyperlink greentechmedia, solar energy, utility, guy, impact, energy hyperlink, rate\n",
      "\n",
      "Topic #1:\n",
      "solar, rooftop solar, rooftop, hyperlink, companyreference, installer, statename, project, cityname, solar project, solarjobs, solar installer, major, cityname statename, company, commercial, installation, energy, comfort, potential\n",
      "\n",
      "Topic #2:\n",
      "enphase, ceo, woman, lynn, founder, companyreference, lynn jurich, jurich, sale, cop, companyreference ceo, ahead, international, companyreference amp, daniel, park, statename founder, ride, install hyperlink, giant\n",
      "\n",
      "Topic #3:\n",
      "save money, vote, award, money, air, best, save, tune, think hyperlink, remember, companyreference cityname, honor, best solar, africa, companyreference, award hyperlink, solar gosolar, time, regulator, pvmagazine\n",
      "\n",
      "Topic #4:\n",
      "worker, winter, currently, agreement, harvestsomesun, grid hyperlink, aps, employ, climatechange, harvestsomesun companyreference, contact info, dm contact, solar year, cheer, dm address, harvestsomesun companyreference hyperlink, longer, solarkathiez, grid, approach\n",
      "\n",
      "Topic #5:\n",
      "plant, cleantechnica, earth, large, power, tesla, earthday, power plant, concern, solar power, large solar, world, child, solarimpulse, south, hyperlink cleantechnica, day, earth day, inverter, plant hyperlink\n",
      "\n",
      "Topic #6:\n",
      "rt, usermention, solar, seia, thanks, solarchat, hyperlink, companyreference, industry, rt seia, dm, statename, hear, follow, sorry, solar industry, address, great, ff, usermention sorry\n",
      "\n",
      "Topic #7:\n",
      "capacity, electric, solar, instal, hyperlink, car, gw, grid, rt, power, rt pvsolarreport, powered, solar powered, vehicle, climatereality, record, electric vehicle, rt climatereality, sunpower, plane\n",
      "\n",
      "Topic #8:\n",
      "net, metering, net metering, communitysolar, tax, credit, pvsolarreport, season, tax credit, support, congress, decision, greenpeace, australia, statename, thankful, extension, ensure, shin, rt greenpeace\n",
      "\n",
      "Topic #9:\n",
      "review, star, thanks share, distribute, energy, use, home, united, smart, nest, pollution, quality, choose companyreference, united state, water, sdge, replace, organization, choose, rsvp\n",
      "\n",
      "Topic #10:\n",
      "solarpowerworld, win, inspire, school, enter, hyperlink hyperlink, donation, clean solar, customer hyperlink, contest, scale solar, chance, hyperlink, empower, solar, prize, win hyperlink, utility scale, solar donation, scale\n",
      "\n",
      "Topic #11:\n",
      "hyperlink, solar, rt, statename, energy, companyreference, power, new, usermention, amp, datereference, home, year, panel, day, cityname, solar hyperlink, great, check, know\n",
      "\n",
      "Topic #12:\n",
      "kw solar, ct, kw, module, target, playlist, video youtube, playlist hyperlink, add video, add video youtube, youtube playlist, youtube playlist hyperlink, video youtube playlist, shout solar, shout solar day, kyocerasolarinc, module amp, gosolar usa, bloomberg, gogreen\n",
      "\n",
      "Topic #13:\n",
      "datereference, gosolar, hyperlink, companyreference, hyperlink story, companyreference hyperlink, story, companyreference hyperlink story, cityname, solar, come, timereference, statename, join, gosolar hyperlink, community, learn, today, visit, email\n",
      "\n",
      "Topic #14:\n",
      "hyperlink, solar, companyreference, rt, statename, power, climate, companyreference solar, solar power, change, cityname, cost, today, climate change, quote, business, roof, hire, energy, family\n"
     ]
    }
   ],
   "source": [
    "all_lda_tfidf, vocab_tfidf, all_doc_topics_tfidf, all_prepared_tfidf = get_topics_lda_tfidf(long_tweets.tokens, long_tweets, 15)\n",
    "print_top_words(all_lda_tfidf, vocab_tfidf)"
   ]
  },
  {
   "cell_type": "code",
   "execution_count": null,
   "metadata": {
    "collapsed": false
   },
   "outputs": [],
   "source": [
    "pyLDAvis.display(all_prepared_tfidf)"
   ]
  },
  {
   "cell_type": "code",
   "execution_count": null,
   "metadata": {
    "collapsed": false
   },
   "outputs": [],
   "source": [
    "tweet_topics = get_doc_topics(all_doc_topics_tfidf)\n"
   ]
  },
  {
   "cell_type": "code",
   "execution_count": null,
   "metadata": {
    "collapsed": false
   },
   "outputs": [],
   "source": [
    "long_tweets['topic'] = tweet_topics\n",
    "# show \n",
    "# long_tweets[['text','tokens', 'topic']].head(20)"
   ]
  },
  {
   "cell_type": "markdown",
   "metadata": {},
   "source": [
    "# Investigate tweet composition by topic\n",
    "\n",
    "- Topics over time by candidate (streamgraph)\n",
    "- Topics over time by topic (stacked bar chart)\n",
    "- Sentiment over time (grouped bar chart)\n",
    "- Imperativeness/call to action percentage over time (grouped bar chart)"
   ]
  },
  {
   "cell_type": "code",
   "execution_count": null,
   "metadata": {
    "collapsed": true
   },
   "outputs": [],
   "source": [
    "import matplotlib as mpl\n",
    "\n",
    "from sklearn.manifold import MDS\n",
    "\n",
    "MDS()\n",
    "\n",
    "# two components as we're plotting points in a two-dimensional plane\n",
    "# \"precomputed\" because we provide a distance matrix\n",
    "# we will also specify `random_state` so the plot is reproducible.\n",
    "mds = MDS(n_components=2, dissimilarity=\"precomputed\", random_state=1)\n",
    "\n",
    "pos = mds.fit_transform(dist)  # shape (n_components, n_samples)\n",
    "\n",
    "xs, ys = pos[:, 0], pos[:, 1]"
   ]
  },
  {
   "cell_type": "code",
   "execution_count": null,
   "metadata": {
    "collapsed": false
   },
   "outputs": [],
   "source": [
    "groups = long_tweets.groupby(['topic'])\n",
    "groups.value_counts()"
   ]
  },
  {
   "cell_type": "code",
   "execution_count": null,
   "metadata": {
    "collapsed": false
   },
   "outputs": [],
   "source": [
    "def get_list_time(df):\n",
    "    return df[df.month >= pd.to_datetime('2010-01-01').date()].month.drop_duplicates().sort_values().tolist()\n",
    "\n",
    "def get_topics(df, column_name):\n",
    "    return df[column_name].drop_duplicates().sort_values().tolist()"
   ]
  },
  {
   "cell_type": "code",
   "execution_count": null,
   "metadata": {
    "collapsed": true
   },
   "outputs": [],
   "source": [
    "def make_analysis_array(df, grouping):\n",
    "    import collections\n",
    "    df = df[['month', grouping]]\n",
    "    df = df[df[grouping].notnull() ]\n",
    "    months_in_analysis = get_list_time(df)\n",
    "    \n",
    "    data = []\n",
    "\n",
    "    for topic, group in df.groupby(grouping):\n",
    "\n",
    "        topic_month_count = dict(group['month'].value_counts())\n",
    "\n",
    "        complete_topic_month_count = { month: topic_month_count[month] if month in topic_month_count else 0 for month in months_in_analysis }\n",
    "        assert len(complete_topic_month_count) == len(months_in_analysis)\n",
    "\n",
    "        new_row = np.array([complete_topic_month_count[month] for month in sorted(complete_topic_month_count)])\n",
    "\n",
    "        data.append(new_row)\n",
    "\n",
    "    return np.array(data)"
   ]
  },
  {
   "cell_type": "code",
   "execution_count": null,
   "metadata": {
    "collapsed": true
   },
   "outputs": [],
   "source": [
    "def make_stacked_line_chart(x,y,topics, filename):\n",
    "    y_stack = np.cumsum(y, axis=0)   # a 3x10 array\n",
    "    fig = plt.figure(figsize=(15,7))\n",
    "    ax1 = fig.add_subplot(111)\n",
    "\n",
    "    list_of_colors = [\"#CC6666\", \"#1DACD6\", \"#6E5160\", \"#181B2D\", \"#565762\", \"#40353D\", \"#A29FA6\", \"#C66C1F\", \"#D5C71F\", \"#3B9DFF\", \"#6295A8\", \"#7CC8FF\", \"#6D4D17\"]\n",
    "\n",
    "    for t in range(len(topics))[:10]:\n",
    "        if t == 0:\n",
    "            ax1.fill_between(x, 0, y_stack[0,:], facecolor=\"#CC6666\", alpha=.7, label=topics[t])\n",
    "        else:\n",
    "            ax1.fill_between(x, y_stack[t-1,:], y_stack[t,:], facecolor=list_of_colors[t], alpha=.7, label=topics[t])\n",
    "    \n",
    "    handles, labels = ax1.get_legend_handles_labels()\n",
    "\n",
    "    # reverse the order\n",
    "    ax1.legend(handles[::-1], labels[::-1], bbox_to_anchor=(1.05, 1), loc=2, borderaxespad=0.0)\n",
    "    \n",
    "    plt.savefig(filename)"
   ]
  },
  {
   "cell_type": "markdown",
   "metadata": {},
   "source": [
    "## What is the trend in solar marketing over time?\n",
    "\n",
    "What groups appear more often? When do they appear? "
   ]
  },
  {
   "cell_type": "code",
   "execution_count": 256,
   "metadata": {
    "collapsed": false
   },
   "outputs": [
    {
     "ename": "ValueError",
     "evalue": "Argument dimensions are incompatible",
     "output_type": "error",
     "traceback": [
      "\u001b[0;31m---------------------------------------------------------------------------\u001b[0m",
      "\u001b[0;31mValueError\u001b[0m                                Traceback (most recent call last)",
      "\u001b[0;32m<ipython-input-256-ca023c658081>\u001b[0m in \u001b[0;36m<module>\u001b[0;34m()\u001b[0m\n\u001b[1;32m      2\u001b[0m \u001b[0my\u001b[0m \u001b[0;34m=\u001b[0m \u001b[0mmake_analysis_array\u001b[0m\u001b[0;34m(\u001b[0m\u001b[0mlong_tweets\u001b[0m\u001b[0;34m,\u001b[0m \u001b[0;34m'marketing_type'\u001b[0m\u001b[0;34m)\u001b[0m\u001b[0;34m\u001b[0m\u001b[0m\n\u001b[1;32m      3\u001b[0m \u001b[0mtopics\u001b[0m \u001b[0;34m=\u001b[0m \u001b[0mget_topics\u001b[0m\u001b[0;34m(\u001b[0m\u001b[0mlong_tweets\u001b[0m\u001b[0;34m,\u001b[0m \u001b[0;34m'marketing_type'\u001b[0m\u001b[0;34m)\u001b[0m\u001b[0;34m\u001b[0m\u001b[0m\n\u001b[0;32m----> 4\u001b[0;31m \u001b[0mmake_stacked_line_chart\u001b[0m\u001b[0;34m(\u001b[0m\u001b[0mx\u001b[0m\u001b[0;34m,\u001b[0m\u001b[0my\u001b[0m\u001b[0;34m,\u001b[0m\u001b[0mtopics\u001b[0m\u001b[0;34m,\u001b[0m \u001b[0;34m'marketing_type.png'\u001b[0m\u001b[0;34m)\u001b[0m\u001b[0;34m\u001b[0m\u001b[0m\n\u001b[0m",
      "\u001b[0;32m<ipython-input-255-ba3650f337da>\u001b[0m in \u001b[0;36mmake_stacked_line_chart\u001b[0;34m(x, y, topics, filename)\u001b[0m\n\u001b[1;32m      8\u001b[0m     \u001b[0;32mfor\u001b[0m \u001b[0mt\u001b[0m \u001b[0;32min\u001b[0m \u001b[0mrange\u001b[0m\u001b[0;34m(\u001b[0m\u001b[0mlen\u001b[0m\u001b[0;34m(\u001b[0m\u001b[0mtopics\u001b[0m\u001b[0;34m)\u001b[0m\u001b[0;34m)\u001b[0m\u001b[0;34m[\u001b[0m\u001b[0;34m:\u001b[0m\u001b[0;36m10\u001b[0m\u001b[0;34m]\u001b[0m\u001b[0;34m:\u001b[0m\u001b[0;34m\u001b[0m\u001b[0m\n\u001b[1;32m      9\u001b[0m         \u001b[0;32mif\u001b[0m \u001b[0mt\u001b[0m \u001b[0;34m==\u001b[0m \u001b[0;36m0\u001b[0m\u001b[0;34m:\u001b[0m\u001b[0;34m\u001b[0m\u001b[0m\n\u001b[0;32m---> 10\u001b[0;31m             \u001b[0max1\u001b[0m\u001b[0;34m.\u001b[0m\u001b[0mfill_between\u001b[0m\u001b[0;34m(\u001b[0m\u001b[0mx\u001b[0m\u001b[0;34m,\u001b[0m \u001b[0;36m0\u001b[0m\u001b[0;34m,\u001b[0m \u001b[0my_stack\u001b[0m\u001b[0;34m[\u001b[0m\u001b[0;36m0\u001b[0m\u001b[0;34m,\u001b[0m\u001b[0;34m:\u001b[0m\u001b[0;34m]\u001b[0m\u001b[0;34m,\u001b[0m \u001b[0mfacecolor\u001b[0m\u001b[0;34m=\u001b[0m\u001b[0;34m\"#CC6666\"\u001b[0m\u001b[0;34m,\u001b[0m \u001b[0malpha\u001b[0m\u001b[0;34m=\u001b[0m\u001b[0;36m.7\u001b[0m\u001b[0;34m,\u001b[0m \u001b[0mlabel\u001b[0m\u001b[0;34m=\u001b[0m\u001b[0mtopics\u001b[0m\u001b[0;34m[\u001b[0m\u001b[0mt\u001b[0m\u001b[0;34m]\u001b[0m\u001b[0;34m)\u001b[0m\u001b[0;34m\u001b[0m\u001b[0m\n\u001b[0m\u001b[1;32m     11\u001b[0m         \u001b[0;32melse\u001b[0m\u001b[0;34m:\u001b[0m\u001b[0;34m\u001b[0m\u001b[0m\n\u001b[1;32m     12\u001b[0m             \u001b[0max1\u001b[0m\u001b[0;34m.\u001b[0m\u001b[0mfill_between\u001b[0m\u001b[0;34m(\u001b[0m\u001b[0mx\u001b[0m\u001b[0;34m,\u001b[0m \u001b[0my_stack\u001b[0m\u001b[0;34m[\u001b[0m\u001b[0mt\u001b[0m\u001b[0;34m-\u001b[0m\u001b[0;36m1\u001b[0m\u001b[0;34m,\u001b[0m\u001b[0;34m:\u001b[0m\u001b[0;34m]\u001b[0m\u001b[0;34m,\u001b[0m \u001b[0my_stack\u001b[0m\u001b[0;34m[\u001b[0m\u001b[0mt\u001b[0m\u001b[0;34m,\u001b[0m\u001b[0;34m:\u001b[0m\u001b[0;34m]\u001b[0m\u001b[0;34m,\u001b[0m \u001b[0mfacecolor\u001b[0m\u001b[0;34m=\u001b[0m\u001b[0mlist_of_colors\u001b[0m\u001b[0;34m[\u001b[0m\u001b[0mt\u001b[0m\u001b[0;34m]\u001b[0m\u001b[0;34m,\u001b[0m \u001b[0malpha\u001b[0m\u001b[0;34m=\u001b[0m\u001b[0;36m.7\u001b[0m\u001b[0;34m,\u001b[0m \u001b[0mlabel\u001b[0m\u001b[0;34m=\u001b[0m\u001b[0mtopics\u001b[0m\u001b[0;34m[\u001b[0m\u001b[0mt\u001b[0m\u001b[0;34m]\u001b[0m\u001b[0;34m)\u001b[0m\u001b[0;34m\u001b[0m\u001b[0m\n",
      "\u001b[0;32m/Library/Frameworks/Python.framework/Versions/3.5/lib/python3.5/site-packages/matplotlib/__init__.py\u001b[0m in \u001b[0;36minner\u001b[0;34m(ax, *args, **kwargs)\u001b[0m\n\u001b[1;32m   1810\u001b[0m                     warnings.warn(msg % (label_namer, func.__name__),\n\u001b[1;32m   1811\u001b[0m                                   RuntimeWarning, stacklevel=2)\n\u001b[0;32m-> 1812\u001b[0;31m             \u001b[0;32mreturn\u001b[0m \u001b[0mfunc\u001b[0m\u001b[0;34m(\u001b[0m\u001b[0max\u001b[0m\u001b[0;34m,\u001b[0m \u001b[0;34m*\u001b[0m\u001b[0margs\u001b[0m\u001b[0;34m,\u001b[0m \u001b[0;34m**\u001b[0m\u001b[0mkwargs\u001b[0m\u001b[0;34m)\u001b[0m\u001b[0;34m\u001b[0m\u001b[0m\n\u001b[0m\u001b[1;32m   1813\u001b[0m         \u001b[0mpre_doc\u001b[0m \u001b[0;34m=\u001b[0m \u001b[0minner\u001b[0m\u001b[0;34m.\u001b[0m\u001b[0m__doc__\u001b[0m\u001b[0;34m\u001b[0m\u001b[0m\n\u001b[1;32m   1814\u001b[0m         \u001b[0;32mif\u001b[0m \u001b[0mpre_doc\u001b[0m \u001b[0;32mis\u001b[0m \u001b[0;32mNone\u001b[0m\u001b[0;34m:\u001b[0m\u001b[0;34m\u001b[0m\u001b[0m\n",
      "\u001b[0;32m/Library/Frameworks/Python.framework/Versions/3.5/lib/python3.5/site-packages/matplotlib/axes/_axes.py\u001b[0m in \u001b[0;36mfill_between\u001b[0;34m(self, x, y1, y2, where, interpolate, step, **kwargs)\u001b[0m\n\u001b[1;32m   4619\u001b[0m \u001b[0;34m\u001b[0m\u001b[0m\n\u001b[1;32m   4620\u001b[0m         \u001b[0;32mif\u001b[0m \u001b[0;32mnot\u001b[0m \u001b[0;34m(\u001b[0m\u001b[0mx\u001b[0m\u001b[0;34m.\u001b[0m\u001b[0mshape\u001b[0m \u001b[0;34m==\u001b[0m \u001b[0my1\u001b[0m\u001b[0;34m.\u001b[0m\u001b[0mshape\u001b[0m \u001b[0;34m==\u001b[0m \u001b[0my2\u001b[0m\u001b[0;34m.\u001b[0m\u001b[0mshape\u001b[0m \u001b[0;34m==\u001b[0m \u001b[0mwhere\u001b[0m\u001b[0;34m.\u001b[0m\u001b[0mshape\u001b[0m\u001b[0;34m)\u001b[0m\u001b[0;34m:\u001b[0m\u001b[0;34m\u001b[0m\u001b[0m\n\u001b[0;32m-> 4621\u001b[0;31m             \u001b[0;32mraise\u001b[0m \u001b[0mValueError\u001b[0m\u001b[0;34m(\u001b[0m\u001b[0;34m\"Argument dimensions are incompatible\"\u001b[0m\u001b[0;34m)\u001b[0m\u001b[0;34m\u001b[0m\u001b[0m\n\u001b[0m\u001b[1;32m   4622\u001b[0m \u001b[0;34m\u001b[0m\u001b[0m\n\u001b[1;32m   4623\u001b[0m         \u001b[0mmask\u001b[0m \u001b[0;34m=\u001b[0m \u001b[0mreduce\u001b[0m\u001b[0;34m(\u001b[0m\u001b[0mma\u001b[0m\u001b[0;34m.\u001b[0m\u001b[0mmask_or\u001b[0m\u001b[0;34m,\u001b[0m \u001b[0;34m[\u001b[0m\u001b[0mma\u001b[0m\u001b[0;34m.\u001b[0m\u001b[0mgetmask\u001b[0m\u001b[0;34m(\u001b[0m\u001b[0ma\u001b[0m\u001b[0;34m)\u001b[0m \u001b[0;32mfor\u001b[0m \u001b[0ma\u001b[0m \u001b[0;32min\u001b[0m \u001b[0;34m(\u001b[0m\u001b[0mx\u001b[0m\u001b[0;34m,\u001b[0m \u001b[0my1\u001b[0m\u001b[0;34m,\u001b[0m \u001b[0my2\u001b[0m\u001b[0;34m)\u001b[0m\u001b[0;34m]\u001b[0m\u001b[0;34m)\u001b[0m\u001b[0;34m\u001b[0m\u001b[0m\n",
      "\u001b[0;31mValueError\u001b[0m: Argument dimensions are incompatible"
     ]
    },
    {
     "data": {
      "image/png": "[encoded data removed]",
      "text/plain": [
       "<matplotlib.figure.Figure at 0x11a2f44a8>"
      ]
     },
     "metadata": {},
     "output_type": "display_data"
    }
   ],
   "source": [
    "x = get_list_time(long_tweets)\n",
    "y = make_analysis_array(long_tweets, 'marketing_type')\n",
    "topics = get_topics(long_tweets, 'marketing_type')\n",
    "make_stacked_line_chart(x,y,topics, 'marketing_type.png')"
   ]
  },
  {
   "cell_type": "code",
   "execution_count": 257,
   "metadata": {
    "collapsed": false
   },
   "outputs": [
    {
     "data": {
      "image/png": "[encoded data removed]",
      "text/plain": [
       "<matplotlib.figure.Figure at 0x12cfdbf60>"
      ]
     },
     "metadata": {},
     "output_type": "display_data"
    }
   ],
   "source": [
    "x = get_list_time(long_tweets)\n",
    "y = make_analysis_array(long_tweets, 'topic')\n",
    "topics = get_topics(long_tweets, 'topic')\n",
    "make_stacked_line_chart(x,y,topics, 'lda_topic_model_overtime.png')"
   ]
  },
  {
   "cell_type": "markdown",
   "metadata": {},
   "source": [
    "Show the clusters."
   ]
  },
  {
   "cell_type": "code",
   "execution_count": null,
   "metadata": {
    "collapsed": false,
    "scrolled": true
   },
   "outputs": [],
   "source": [
    "print_top_words(all_lda_tfidf, vocab_tfidf)"
   ]
  },
  {
   "cell_type": "markdown",
   "metadata": {
    "collapsed": true
   },
   "source": [
    "More info\n",
    "\n",
    "- https://pyldavis.readthedocs.org\n",
    "- http://nlp.stanford.edu/events/illvi2014/papers/sievert-illvi2014.pdf\n",
    "- https://cran.r-project.org/web/packages/LDAvis/vignettes/details.pdf\n"
   ]
  },
  {
   "cell_type": "code",
   "execution_count": null,
   "metadata": {
    "collapsed": false
   },
   "outputs": [],
   "source": [
    "# long_tweets.groupby('topic')['retweet_count'].mean()\n",
    "topic_to_mean_retweet = long_tweets.groupby('topic')['retweet_count'].sum() / long_tweets.groupby('topic')['retweet_count'].count()\n",
    "\n",
    "ax = sns.barplot(x=topic_to_mean_retweet.index, y=topic_to_mean_retweet.values,color=\"salmon\", saturation=.5)\n",
    "ax.figure.savefig('avg_retweets_by_topics.png')"
   ]
  },
  {
   "cell_type": "code",
   "execution_count": null,
   "metadata": {
    "collapsed": false
   },
   "outputs": [],
   "source": [
    "# ax = sns.boxplot(x=long_tweets[\"topic\"])\n",
    "long_tweets['retweet_count']= long_tweets['retweet_count'].astype(float)\n",
    "\n",
    "df_box_plot = long_tweets[~(np.abs(long_tweets.retweet_count-long_tweets.retweet_count.mean())>(3*long_tweets.retweet_count.std()))]\n",
    "\n",
    "ax = sns.boxplot(x=\"topic\", y=\"retweet_count\", data=df_box_plot, showfliers=False)"
   ]
  },
  {
   "cell_type": "markdown",
   "metadata": {
    "collapsed": true
   },
   "source": [
    "## Visualizing marketing clusters\n",
    "\n",
    "First I define some dictionaries for going from cluster number to color and to cluster name. I based the cluster names off the words that were closest to each cluster centroid."
   ]
  },
  {
   "cell_type": "code",
   "execution_count": null,
   "metadata": {
    "collapsed": true
   },
   "outputs": [],
   "source": []
  },
  {
   "cell_type": "code",
   "execution_count": null,
   "metadata": {
    "collapsed": true
   },
   "outputs": [],
   "source": []
  },
  {
   "cell_type": "code",
   "execution_count": null,
   "metadata": {
    "collapsed": true
   },
   "outputs": [],
   "source": []
  }
 ],
 "metadata": {
  "kernelspec": {
   "display_name": "Python 3",
   "language": "python",
   "name": "python3"
  },
  "language_info": {
   "codemirror_mode": {
    "name": "ipython",
    "version": 3
   },
   "file_extension": ".py",
   "mimetype": "text/x-python",
   "name": "python",
   "nbconvert_exporter": "python",
   "pygments_lexer": "ipython3",
   "version": "3.5.0"
  },
  "toc": {
   "toc_cell": true,
   "toc_number_sections": true,
   "toc_section_display": "none",
   "toc_threshold": 6,
   "toc_window_display": true
  },
  "toc_position": {
   "height": "352px",
   "left": "1059.69px",
   "right": "20px",
   "top": "116px",
   "width": "430px"
  }
 },
 "nbformat": 4,
 "nbformat_minor": 0
}
